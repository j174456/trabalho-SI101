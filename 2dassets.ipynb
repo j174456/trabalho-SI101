{
  "nbformat": 4,
  "nbformat_minor": 0,
  "metadata": {
    "colab": {
      "name": "2dassets.ipynb",
      "provenance": [],
      "collapsed_sections": [],
      "toc_visible": true,
      "authorship_tag": "ABX9TyNQOcQD4gUKa4YWjXyhPVdo",
      "include_colab_link": true
    },
    "kernelspec": {
      "name": "python3",
      "display_name": "Python 3"
    }
  },
  "cells": [
    {
      "cell_type": "markdown",
      "metadata": {
        "id": "view-in-github",
        "colab_type": "text"
      },
      "source": [
        "<a href=\"https://colab.research.google.com/github/j174456/trabalho-SI101/blob/master/2dassets.ipynb\" target=\"_parent\"><img src=\"https://colab.research.google.com/assets/colab-badge.svg\" alt=\"Open In Colab\"/></a>"
      ]
    },
    {
      "cell_type": "code",
      "metadata": {
        "id": "J0iFPyd6I5Jh",
        "colab_type": "code",
        "colab": {
          "base_uri": "https://localhost:8080/",
          "height": 204
        },
        "outputId": "698f69f4-0e44-4f87-a581-9451bd7152b4"
      },
      "source": [
        "import seaborn as sns\n",
        "import pandas as pd\n",
        "import matplotlib.pyplot as plt\n",
        "from sklearn.metrics import accuracy_score\n",
        "ds1= pd.read_csv('2d_dataset_1.csv')\n",
        "ds2= pd.read_csv('2d_dataset_2.csv')\n",
        "ds3= pd.read_csv('2d_dataset_3.csv')\n",
        "ds4= pd.read_csv('2d_dataset_4.csv')\n",
        "ds1.head()"
      ],
      "execution_count": 27,
      "outputs": [
        {
          "output_type": "execute_result",
          "data": {
            "text/html": [
              "<div>\n",
              "<style scoped>\n",
              "    .dataframe tbody tr th:only-of-type {\n",
              "        vertical-align: middle;\n",
              "    }\n",
              "\n",
              "    .dataframe tbody tr th {\n",
              "        vertical-align: top;\n",
              "    }\n",
              "\n",
              "    .dataframe thead th {\n",
              "        text-align: right;\n",
              "    }\n",
              "</style>\n",
              "<table border=\"1\" class=\"dataframe\">\n",
              "  <thead>\n",
              "    <tr style=\"text-align: right;\">\n",
              "      <th></th>\n",
              "      <th>y</th>\n",
              "      <th>alpha</th>\n",
              "      <th>beta</th>\n",
              "    </tr>\n",
              "  </thead>\n",
              "  <tbody>\n",
              "    <tr>\n",
              "      <th>0</th>\n",
              "      <td>1</td>\n",
              "      <td>94</td>\n",
              "      <td>212</td>\n",
              "    </tr>\n",
              "    <tr>\n",
              "      <th>1</th>\n",
              "      <td>0</td>\n",
              "      <td>875</td>\n",
              "      <td>700</td>\n",
              "    </tr>\n",
              "    <tr>\n",
              "      <th>2</th>\n",
              "      <td>0</td>\n",
              "      <td>877</td>\n",
              "      <td>766</td>\n",
              "    </tr>\n",
              "    <tr>\n",
              "      <th>3</th>\n",
              "      <td>0</td>\n",
              "      <td>811</td>\n",
              "      <td>941</td>\n",
              "    </tr>\n",
              "    <tr>\n",
              "      <th>4</th>\n",
              "      <td>1</td>\n",
              "      <td>97</td>\n",
              "      <td>178</td>\n",
              "    </tr>\n",
              "  </tbody>\n",
              "</table>\n",
              "</div>"
            ],
            "text/plain": [
              "   y  alpha  beta\n",
              "0  1     94   212\n",
              "1  0    875   700\n",
              "2  0    877   766\n",
              "3  0    811   941\n",
              "4  1     97   178"
            ]
          },
          "metadata": {
            "tags": []
          },
          "execution_count": 27
        }
      ]
    },
    {
      "cell_type": "markdown",
      "metadata": {
        "id": "hLrYoOdZF-4G",
        "colab_type": "text"
      },
      "source": [
        "##analise do dataset"
      ]
    },
    {
      "cell_type": "code",
      "metadata": {
        "id": "sDTEe-xwOJz0",
        "colab_type": "code",
        "colab": {
          "base_uri": "https://localhost:8080/",
          "height": 297
        },
        "outputId": "323fe271-c859-4ce5-e0de-6df4ecc045db"
      },
      "source": [
        "ds1.describe()"
      ],
      "execution_count": 23,
      "outputs": [
        {
          "output_type": "execute_result",
          "data": {
            "text/html": [
              "<div>\n",
              "<style scoped>\n",
              "    .dataframe tbody tr th:only-of-type {\n",
              "        vertical-align: middle;\n",
              "    }\n",
              "\n",
              "    .dataframe tbody tr th {\n",
              "        vertical-align: top;\n",
              "    }\n",
              "\n",
              "    .dataframe thead th {\n",
              "        text-align: right;\n",
              "    }\n",
              "</style>\n",
              "<table border=\"1\" class=\"dataframe\">\n",
              "  <thead>\n",
              "    <tr style=\"text-align: right;\">\n",
              "      <th></th>\n",
              "      <th>y</th>\n",
              "      <th>alpha</th>\n",
              "      <th>beta</th>\n",
              "    </tr>\n",
              "  </thead>\n",
              "  <tbody>\n",
              "    <tr>\n",
              "      <th>count</th>\n",
              "      <td>509.000000</td>\n",
              "      <td>509.000000</td>\n",
              "      <td>509.000000</td>\n",
              "    </tr>\n",
              "    <tr>\n",
              "      <th>mean</th>\n",
              "      <td>0.473477</td>\n",
              "      <td>521.041257</td>\n",
              "      <td>529.379175</td>\n",
              "    </tr>\n",
              "    <tr>\n",
              "      <th>std</th>\n",
              "      <td>0.499787</td>\n",
              "      <td>328.287624</td>\n",
              "      <td>334.076091</td>\n",
              "    </tr>\n",
              "    <tr>\n",
              "      <th>min</th>\n",
              "      <td>0.000000</td>\n",
              "      <td>74.000000</td>\n",
              "      <td>58.000000</td>\n",
              "    </tr>\n",
              "    <tr>\n",
              "      <th>25%</th>\n",
              "      <td>0.000000</td>\n",
              "      <td>186.000000</td>\n",
              "      <td>192.000000</td>\n",
              "    </tr>\n",
              "    <tr>\n",
              "      <th>50%</th>\n",
              "      <td>0.000000</td>\n",
              "      <td>720.000000</td>\n",
              "      <td>715.000000</td>\n",
              "    </tr>\n",
              "    <tr>\n",
              "      <th>75%</th>\n",
              "      <td>1.000000</td>\n",
              "      <td>833.000000</td>\n",
              "      <td>846.000000</td>\n",
              "    </tr>\n",
              "    <tr>\n",
              "      <th>max</th>\n",
              "      <td>1.000000</td>\n",
              "      <td>940.000000</td>\n",
              "      <td>961.000000</td>\n",
              "    </tr>\n",
              "  </tbody>\n",
              "</table>\n",
              "</div>"
            ],
            "text/plain": [
              "                y       alpha        beta\n",
              "count  509.000000  509.000000  509.000000\n",
              "mean     0.473477  521.041257  529.379175\n",
              "std      0.499787  328.287624  334.076091\n",
              "min      0.000000   74.000000   58.000000\n",
              "25%      0.000000  186.000000  192.000000\n",
              "50%      0.000000  720.000000  715.000000\n",
              "75%      1.000000  833.000000  846.000000\n",
              "max      1.000000  940.000000  961.000000"
            ]
          },
          "metadata": {
            "tags": []
          },
          "execution_count": 23
        }
      ]
    },
    {
      "cell_type": "code",
      "metadata": {
        "id": "Mp9i12q1GYVN",
        "colab_type": "code",
        "colab": {}
      },
      "source": [
        "ds1.alpha.value_counts()"
      ],
      "execution_count": 0,
      "outputs": []
    },
    {
      "cell_type": "code",
      "metadata": {
        "id": "CKDHS5hzGgwt",
        "colab_type": "code",
        "colab": {}
      },
      "source": [
        "ds1.beta.value_counts()"
      ],
      "execution_count": 0,
      "outputs": []
    },
    {
      "cell_type": "code",
      "metadata": {
        "id": "2aCMFVQnGv3Y",
        "colab_type": "code",
        "colab": {}
      },
      "source": [
        "ds1.y.value_counts()"
      ],
      "execution_count": 0,
      "outputs": []
    },
    {
      "cell_type": "code",
      "metadata": {
        "id": "b60iuzviN6vs",
        "colab_type": "code",
        "colab": {}
      },
      "source": [
        "ds1.alpha.value_counts().sort_index().plot.hist()"
      ],
      "execution_count": 0,
      "outputs": []
    },
    {
      "cell_type": "code",
      "metadata": {
        "id": "miYLoqEmO_Cg",
        "colab_type": "code",
        "colab": {}
      },
      "source": [
        "sns.countplot(x=\"y\",data=ds1)"
      ],
      "execution_count": 0,
      "outputs": []
    },
    {
      "cell_type": "code",
      "metadata": {
        "id": "HCrk6EyRQTh3",
        "colab_type": "code",
        "colab": {}
      },
      "source": [
        "sns.factorplot(x=\"alpha\",col=\"y\",kind=\"count\", data=ds1)"
      ],
      "execution_count": 0,
      "outputs": []
    },
    {
      "cell_type": "code",
      "metadata": {
        "id": "t7rvju8-Qne0",
        "colab_type": "code",
        "colab": {}
      },
      "source": [
        "sns.factorplot(x=\"beta\",col=\"y\",kind=\"count\", data=ds1)"
      ],
      "execution_count": 0,
      "outputs": []
    },
    {
      "cell_type": "markdown",
      "metadata": {
        "id": "i1Ryt7xRA8ny",
        "colab_type": "text"
      },
      "source": [
        "# Testes manuais"
      ]
    },
    {
      "cell_type": "code",
      "metadata": {
        "id": "O1tWqZcnBDdR",
        "colab_type": "code",
        "colab": {}
      },
      "source": [
        "#teste 1\n",
        "testey =(ds1.alpha >= 521)\n",
        "testey=testey.apply(lambda x:int(x))\n",
        "testey\n",
        "accuracy_score(ds1.y,testey)"
      ],
      "execution_count": 0,
      "outputs": []
    },
    {
      "cell_type": "code",
      "metadata": {
        "id": "5gcDxcRPCbCQ",
        "colab_type": "code",
        "colab": {}
      },
      "source": [
        "#teste 2\n",
        "testey =(ds1.beta >= 529)\n",
        "testey=testey.apply(lambda x:int(x))\n",
        "accuracy_score(ds1.y,testey)"
      ],
      "execution_count": 0,
      "outputs": []
    },
    {
      "cell_type": "code",
      "metadata": {
        "id": "XBYcNZeOCyrT",
        "colab_type": "code",
        "colab": {}
      },
      "source": [
        "#teste 3\n",
        "testey =(ds1.alpha % ds1.beta == 0)\n",
        "testey=testey.apply(lambda x:int(x))\n",
        "accuracy_score(ds1.y,testey)"
      ],
      "execution_count": 0,
      "outputs": []
    },
    {
      "cell_type": "code",
      "metadata": {
        "id": "ZVzRJY0KEtnt",
        "colab_type": "code",
        "colab": {}
      },
      "source": [
        "#teste 4\n",
        "testey =(ds1.beta % ds1.alpha == 0)\n",
        "testey=testey.apply(lambda x:int(x))\n",
        "accuracy_score(ds1.y,testey)"
      ],
      "execution_count": 0,
      "outputs": []
    },
    {
      "cell_type": "code",
      "metadata": {
        "id": "si5RMiwkEVRo",
        "colab_type": "code",
        "colab": {}
      },
      "source": [
        "#teste 5\n",
        "testey =((ds1.alpha + ds1.beta)%2 == 0)\n",
        "testey=testey.apply(lambda x:int(x))\n",
        "accuracy_score(ds1.y,testey)"
      ],
      "execution_count": 0,
      "outputs": []
    },
    {
      "cell_type": "code",
      "metadata": {
        "id": "9uKBWN8KEjIh",
        "colab_type": "code",
        "colab": {}
      },
      "source": [
        "#teste 6\n",
        "testey =((ds1.alpha * ds1.beta)%2 == 0)\n",
        "testey=testey.apply(lambda x:int(x))\n",
        "accuracy_score(ds1.y,testey)"
      ],
      "execution_count": 0,
      "outputs": []
    },
    {
      "cell_type": "code",
      "metadata": {
        "id": "l1hDraVDFDS_",
        "colab_type": "code",
        "colab": {}
      },
      "source": [
        "#teste 7\n",
        "testey =((ds1.alpha * 2)+ds1.beta == 0)\n",
        "testey=testey.apply(lambda x:int(x))\n",
        "accuracy_score(ds1.y,testey)"
      ],
      "execution_count": 0,
      "outputs": []
    },
    {
      "cell_type": "code",
      "metadata": {
        "id": "HoKP4FepHsY2",
        "colab_type": "code",
        "colab": {}
      },
      "source": [
        "#teste 8\n",
        "testey =((ds1.beta * 2)+ds1.alpha == 0)\n",
        "testey=testey.apply(lambda x:int(x))\n",
        "accuracy_score(ds1.y,testey)"
      ],
      "execution_count": 0,
      "outputs": []
    },
    {
      "cell_type": "markdown",
      "metadata": {
        "id": "a7FBmUVM16Zi",
        "colab_type": "text"
      },
      "source": [
        "# Scikit\n",
        "\n"
      ]
    },
    {
      "cell_type": "markdown",
      "metadata": {
        "id": "Yc0OJahFSolr",
        "colab_type": "text"
      },
      "source": [
        "##Modelo Bayes"
      ]
    },
    {
      "cell_type": "code",
      "metadata": {
        "id": "TIo01qNpP4Fo",
        "colab_type": "code",
        "colab": {}
      },
      "source": [
        "from sklearn.naive_bayes import GaussianNB # 1. Escolha do modelo.\n",
        "modelo_bayes = GaussianNB()                # 2. Escolha dos hiperparâmetros e intanciação."
      ],
      "execution_count": 0,
      "outputs": []
    },
    {
      "cell_type": "code",
      "metadata": {
        "id": "dToJHH-lQJAd",
        "colab_type": "code",
        "colab": {}
      },
      "source": [
        "# 3 feature matrix\n",
        "MatrizAB= ds1.loc[:,['alpha','beta']]\n",
        "MatrizAB"
      ],
      "execution_count": 0,
      "outputs": []
    },
    {
      "cell_type": "code",
      "metadata": {
        "id": "OwWhiOJeQk27",
        "colab_type": "code",
        "colab": {}
      },
      "source": [
        "#3 Target Array\n",
        "ArrayAB= ds1.y\n",
        "ArrayAB"
      ],
      "execution_count": 0,
      "outputs": []
    },
    {
      "cell_type": "code",
      "metadata": {
        "id": "zK5GhK6MQ_47",
        "colab_type": "code",
        "colab": {}
      },
      "source": [
        "# 3.3 Separação do Banco de Dados\n",
        "#from sklearn.model_selection import train_test_split\n",
        "Mteste1 = ds2.loc[:,['alpha','beta']]\n",
        "Ateste1 = ds2.y"
      ],
      "execution_count": 0,
      "outputs": []
    },
    {
      "cell_type": "code",
      "metadata": {
        "id": "FU3V1yiWRra9",
        "colab_type": "code",
        "outputId": "cb5bb8a0-6cee-471d-dc30-33ee51eaa79e",
        "colab": {
          "base_uri": "https://localhost:8080/",
          "height": 34
        }
      },
      "source": [
        "modelo_bayes.fit(MatrizAB,ArrayAB)"
      ],
      "execution_count": 13,
      "outputs": [
        {
          "output_type": "execute_result",
          "data": {
            "text/plain": [
              "GaussianNB(priors=None, var_smoothing=1e-09)"
            ]
          },
          "metadata": {
            "tags": []
          },
          "execution_count": 13
        }
      ]
    },
    {
      "cell_type": "code",
      "metadata": {
        "id": "VW2VB3PDR1Eq",
        "colab_type": "code",
        "colab": {}
      },
      "source": [
        "modelo_bayes_resultado=modelo_bayes.predict(Mteste1)"
      ],
      "execution_count": 0,
      "outputs": []
    },
    {
      "cell_type": "code",
      "metadata": {
        "id": "XgfUDtr8SPlD",
        "colab_type": "code",
        "colab": {}
      },
      "source": [
        "modelo_bayes_resultado"
      ],
      "execution_count": 0,
      "outputs": []
    },
    {
      "cell_type": "code",
      "metadata": {
        "id": "wSzhQYPiSS4m",
        "colab_type": "code",
        "outputId": "56e5454d-3848-43fb-f821-1a6728563947",
        "colab": {
          "base_uri": "https://localhost:8080/",
          "height": 34
        }
      },
      "source": [
        "#teste de acuracia\n",
        "accuracy_score(Ateste1,modelo_bayes_resultado)"
      ],
      "execution_count": 16,
      "outputs": [
        {
          "output_type": "execute_result",
          "data": {
            "text/plain": [
              "0.849112426035503"
            ]
          },
          "metadata": {
            "tags": []
          },
          "execution_count": 16
        }
      ]
    },
    {
      "cell_type": "markdown",
      "metadata": {
        "id": "On3dBtwNS7qp",
        "colab_type": "text"
      },
      "source": [
        "# ## modelo da árvore de decisões"
      ]
    },
    {
      "cell_type": "code",
      "metadata": {
        "id": "UoEX8AEcS_97",
        "colab_type": "code",
        "colab": {}
      },
      "source": [
        "from sklearn.tree import DecisionTreeClassifier  \n",
        "modelo_adecisao = DecisionTreeClassifier()\n",
        "modelo_adecisao.fit(MatrizAB,ArrayAB)"
      ],
      "execution_count": 0,
      "outputs": []
    },
    {
      "cell_type": "code",
      "metadata": {
        "id": "AF07fqYiTUQH",
        "colab_type": "code",
        "colab": {}
      },
      "source": [
        "modelo_adecisao_resultado=modelo_adecisao.predict(Mteste1)"
      ],
      "execution_count": 0,
      "outputs": []
    },
    {
      "cell_type": "code",
      "metadata": {
        "id": "fbsoCR92Tfgr",
        "colab_type": "code",
        "colab": {}
      },
      "source": [
        "modelo_adecisao_resultado"
      ],
      "execution_count": 0,
      "outputs": []
    },
    {
      "cell_type": "code",
      "metadata": {
        "id": "1rXkr0rlTlJ2",
        "colab_type": "code",
        "outputId": "c109ec09-7966-4e39-bd53-4fade1e8b827",
        "colab": {
          "base_uri": "https://localhost:8080/",
          "height": 34
        }
      },
      "source": [
        "accuracy_score(Ateste1,modelo_adecisao_resultado)"
      ],
      "execution_count": 0,
      "outputs": [
        {
          "output_type": "execute_result",
          "data": {
            "text/plain": [
              "0.7204142011834319"
            ]
          },
          "metadata": {
            "tags": []
          },
          "execution_count": 16
        }
      ]
    },
    {
      "cell_type": "markdown",
      "metadata": {
        "id": "x6x0XobmuhUH",
        "colab_type": "text"
      },
      "source": [
        "## Modelo de Regressão logistica"
      ]
    },
    {
      "cell_type": "code",
      "metadata": {
        "id": "uZJawr2aumU2",
        "colab_type": "code",
        "colab": {}
      },
      "source": [
        "from sklearn.linear_model import LogisticRegression\n",
        "modelo_lr=LogisticRegression()"
      ],
      "execution_count": 0,
      "outputs": []
    },
    {
      "cell_type": "code",
      "metadata": {
        "id": "m6z-CAX0uycJ",
        "colab_type": "code",
        "outputId": "13320e2b-120c-4f27-cbf2-97c27cf77263",
        "colab": {
          "base_uri": "https://localhost:8080/",
          "height": 102
        }
      },
      "source": [
        "modelo_lr.fit(MatrizAB,ArrayAB)"
      ],
      "execution_count": 0,
      "outputs": [
        {
          "output_type": "execute_result",
          "data": {
            "text/plain": [
              "LogisticRegression(C=1.0, class_weight=None, dual=False, fit_intercept=True,\n",
              "                   intercept_scaling=1, l1_ratio=None, max_iter=100,\n",
              "                   multi_class='auto', n_jobs=None, penalty='l2',\n",
              "                   random_state=None, solver='lbfgs', tol=0.0001, verbose=0,\n",
              "                   warm_start=False)"
            ]
          },
          "metadata": {
            "tags": []
          },
          "execution_count": 27
        }
      ]
    },
    {
      "cell_type": "code",
      "metadata": {
        "id": "Q7k6FBjJu7eS",
        "colab_type": "code",
        "colab": {}
      },
      "source": [
        "modelo_lr_resultado = modelo_lr.predict(Mteste1)"
      ],
      "execution_count": 0,
      "outputs": []
    },
    {
      "cell_type": "code",
      "metadata": {
        "id": "LaKLei-9vHFn",
        "colab_type": "code",
        "outputId": "fe651358-5c0a-43e1-901b-675bc89e7687",
        "colab": {
          "base_uri": "https://localhost:8080/",
          "height": 34
        }
      },
      "source": [
        "accuracy_score(Ateste1,modelo_lr_resultado)"
      ],
      "execution_count": 0,
      "outputs": [
        {
          "output_type": "execute_result",
          "data": {
            "text/plain": [
              "0.8372781065088757"
            ]
          },
          "metadata": {
            "tags": []
          },
          "execution_count": 35
        }
      ]
    },
    {
      "cell_type": "markdown",
      "metadata": {
        "id": "Uc7Ug9bgvypz",
        "colab_type": "text"
      },
      "source": [
        "## Modelo de Rede Neural"
      ]
    },
    {
      "cell_type": "code",
      "metadata": {
        "id": "rVD7kQ3QwG_S",
        "colab_type": "code",
        "colab": {}
      },
      "source": [
        "from sklearn.neural_network import MLPClassifier\n",
        "modelo_redeN = MLPClassifier()"
      ],
      "execution_count": 0,
      "outputs": []
    },
    {
      "cell_type": "code",
      "metadata": {
        "id": "R6BU-bxGwamV",
        "colab_type": "code",
        "outputId": "8bab624c-5078-4640-e9f2-cd2d3e6382de",
        "colab": {
          "base_uri": "https://localhost:8080/",
          "height": 207
        }
      },
      "source": [
        "modelo_redeN.fit(MatrizAB,ArrayAB)"
      ],
      "execution_count": 0,
      "outputs": [
        {
          "output_type": "stream",
          "text": [
            "/usr/local/lib/python3.6/dist-packages/sklearn/neural_network/_multilayer_perceptron.py:571: ConvergenceWarning: Stochastic Optimizer: Maximum iterations (200) reached and the optimization hasn't converged yet.\n",
            "  % self.max_iter, ConvergenceWarning)\n"
          ],
          "name": "stderr"
        },
        {
          "output_type": "execute_result",
          "data": {
            "text/plain": [
              "MLPClassifier(activation='relu', alpha=0.0001, batch_size='auto', beta_1=0.9,\n",
              "              beta_2=0.999, early_stopping=False, epsilon=1e-08,\n",
              "              hidden_layer_sizes=(100,), learning_rate='constant',\n",
              "              learning_rate_init=0.001, max_fun=15000, max_iter=200,\n",
              "              momentum=0.9, n_iter_no_change=10, nesterovs_momentum=True,\n",
              "              power_t=0.5, random_state=None, shuffle=True, solver='adam',\n",
              "              tol=0.0001, validation_fraction=0.1, verbose=False,\n",
              "              warm_start=False)"
            ]
          },
          "metadata": {
            "tags": []
          },
          "execution_count": 41
        }
      ]
    },
    {
      "cell_type": "code",
      "metadata": {
        "id": "rSUZE-CIwhVC",
        "colab_type": "code",
        "colab": {}
      },
      "source": [
        "modelo_redeN_resultado = modelo_redeN.predict(Mteste1)"
      ],
      "execution_count": 0,
      "outputs": []
    },
    {
      "cell_type": "code",
      "metadata": {
        "id": "jG0FLvNJwuEN",
        "colab_type": "code",
        "outputId": "1e232031-7a9a-4c9a-9846-03a6ea0ac954",
        "colab": {
          "base_uri": "https://localhost:8080/",
          "height": 34
        }
      },
      "source": [
        "accuracy_score(Ateste1,modelo_redeN_resultado)"
      ],
      "execution_count": 0,
      "outputs": [
        {
          "output_type": "execute_result",
          "data": {
            "text/plain": [
              "0.4526627218934911"
            ]
          },
          "metadata": {
            "tags": []
          },
          "execution_count": 43
        }
      ]
    },
    {
      "cell_type": "markdown",
      "metadata": {
        "id": "xZrdoOjfUFWe",
        "colab_type": "text"
      },
      "source": [
        "#Matriz de Confusão"
      ]
    },
    {
      "cell_type": "code",
      "metadata": {
        "id": "1ncJKObcUM6R",
        "colab_type": "code",
        "colab": {}
      },
      "source": [
        "from sklearn.metrics import confusion_matrix\n",
        "matriz_bayes= confusion_matrix(Ateste1,modelo_bayes_resultado)"
      ],
      "execution_count": 0,
      "outputs": []
    },
    {
      "cell_type": "code",
      "metadata": {
        "id": "k3YcDICmUlQS",
        "colab_type": "code",
        "outputId": "77c2d7de-ea24-4e51-a661-98e463a62393",
        "colab": {
          "base_uri": "https://localhost:8080/",
          "height": 296
        }
      },
      "source": [
        "sns.heatmap(matriz_bayes, square=True, annot = True)\n",
        "plt.xlabel('Valores Preditos')\n",
        "plt.ylabel('Valores Reais')"
      ],
      "execution_count": 0,
      "outputs": [
        {
          "output_type": "execute_result",
          "data": {
            "text/plain": [
              "Text(83.40000000000006, 0.5, 'Valores Reais')"
            ]
          },
          "metadata": {
            "tags": []
          },
          "execution_count": 18
        },
        {
          "output_type": "display_data",
          "data": {
            "image/png": "[encoded data removed]",
            "text/plain": [
              "<Figure size 432x288 with 2 Axes>"
            ]
          },
          "metadata": {
            "tags": [],
            "needs_background": "light"
          }
        }
      ]
    },
    {
      "cell_type": "code",
      "metadata": {
        "id": "4n-3znACU3NT",
        "colab_type": "code",
        "outputId": "104a78bb-be68-4b5b-a94e-bf488730ab58",
        "colab": {
          "base_uri": "https://localhost:8080/",
          "height": 296
        }
      },
      "source": [
        "matriz_adecisao= confusion_matrix(Ateste1,modelo_adecisao_resultado)\n",
        "sns.heatmap(matriz_adecisao, square=True, annot = True)\n",
        "plt.xlabel('Valores Preditos')\n",
        "plt.ylabel('Valores Reais')"
      ],
      "execution_count": 0,
      "outputs": [
        {
          "output_type": "execute_result",
          "data": {
            "text/plain": [
              "Text(83.40000000000006, 0.5, 'Valores Reais')"
            ]
          },
          "metadata": {
            "tags": []
          },
          "execution_count": 19
        },
        {
          "output_type": "display_data",
          "data": {
            "image/png": "[encoded data removed]",
            "text/plain": [
              "<Figure size 432x288 with 2 Axes>"
            ]
          },
          "metadata": {
            "tags": [],
            "needs_background": "light"
          }
        }
      ]
    },
    {
      "cell_type": "code",
      "metadata": {
        "id": "TZw3vqTZxXm7",
        "colab_type": "code",
        "outputId": "0ecf592d-f156-4b5c-8a4a-155222475057",
        "colab": {
          "base_uri": "https://localhost:8080/",
          "height": 296
        }
      },
      "source": [
        "matriz_rl= confusion_matrix(Ateste1,modelo_lr_resultado)\n",
        "sns.heatmap(matriz_rl, square=True, annot = True)\n",
        "plt.xlabel('Valores Preditos')\n",
        "plt.ylabel('Valores Reais')"
      ],
      "execution_count": 0,
      "outputs": [
        {
          "output_type": "execute_result",
          "data": {
            "text/plain": [
              "Text(83.40000000000006, 0.5, 'Valores Reais')"
            ]
          },
          "metadata": {
            "tags": []
          },
          "execution_count": 52
        },
        {
          "output_type": "display_data",
          "data": {
            "image/png": "[encoded data removed]",
            "text/plain": [
              "<Figure size 432x288 with 2 Axes>"
            ]
          },
          "metadata": {
            "tags": [],
            "needs_background": "light"
          }
        }
      ]
    },
    {
      "cell_type": "code",
      "metadata": {
        "id": "4uQCOTQLxf8G",
        "colab_type": "code",
        "outputId": "e222783c-8809-4dc3-e243-cbc3132ed6a9",
        "colab": {
          "base_uri": "https://localhost:8080/",
          "height": 300
        }
      },
      "source": [
        "matriz_redeN= confusion_matrix(Ateste1,modelo_redeN_resultado)\n",
        "sns.heatmap(matriz_redeN, square=True, annot = True)\n",
        "plt.xlabel('Valores Preditos')\n",
        "plt.ylabel('Valores Reais')"
      ],
      "execution_count": 0,
      "outputs": [
        {
          "output_type": "execute_result",
          "data": {
            "text/plain": [
              "Text(83.40000000000006, 0.5, 'Valores Reais')"
            ]
          },
          "metadata": {
            "tags": []
          },
          "execution_count": 45
        },
        {
          "output_type": "display_data",
          "data": {
            "image/png": "[encoded data removed]",
            "text/plain": [
              "<Figure size 432x288 with 2 Axes>"
            ]
          },
          "metadata": {
            "tags": [],
            "needs_background": "light"
          }
        }
      ]
    },
    {
      "cell_type": "markdown",
      "metadata": {
        "id": "pmYv3x49V31_",
        "colab_type": "text"
      },
      "source": [
        "# Validação cruzada"
      ]
    },
    {
      "cell_type": "code",
      "metadata": {
        "id": "AOoV0wN8V9hX",
        "colab_type": "code",
        "outputId": "2974841e-be9f-4e1a-ae5b-0acf0890ac2a",
        "colab": {
          "base_uri": "https://localhost:8080/",
          "height": 34
        }
      },
      "source": [
        "from sklearn.model_selection import cross_val_score\n",
        "\n",
        "from sklearn.neighbors import KNeighborsClassifier\n",
        "modelo_neighbors = KNeighborsClassifier(n_neighbors=3)\n",
        "cross_val_score(modelo_neighbors, MatrizAB, ArrayAB, cv = 5)"
      ],
      "execution_count": 0,
      "outputs": [
        {
          "output_type": "execute_result",
          "data": {
            "text/plain": [
              "array([1., 1., 1., 1., 1.])"
            ]
          },
          "metadata": {
            "tags": []
          },
          "execution_count": 20
        }
      ]
    },
    {
      "cell_type": "code",
      "metadata": {
        "id": "NC_QkwAnX7uS",
        "colab_type": "code",
        "outputId": "97f64ac2-cd15-4530-d22d-3ad4bfe808fe",
        "colab": {
          "base_uri": "https://localhost:8080/",
          "height": 34
        }
      },
      "source": [
        "modelo_bayes_cv = GaussianNB()    \n",
        "cross_val_score(modelo_bayes_cv, MatrizAB, ArrayAB, cv = 5)"
      ],
      "execution_count": 0,
      "outputs": [
        {
          "output_type": "execute_result",
          "data": {
            "text/plain": [
              "array([1., 1., 1., 1., 1.])"
            ]
          },
          "metadata": {
            "tags": []
          },
          "execution_count": 21
        }
      ]
    },
    {
      "cell_type": "code",
      "metadata": {
        "id": "DAMJqS5WYMZj",
        "colab_type": "code",
        "outputId": "1c329bbf-e1a8-452f-d6ba-bcc927ea0a42",
        "colab": {
          "base_uri": "https://localhost:8080/",
          "height": 34
        }
      },
      "source": [
        "modelo_adecisao_cv= DecisionTreeClassifier()\n",
        "cross_val_score(modelo_adecisao_cv, MatrizAB, ArrayAB, cv = 5)"
      ],
      "execution_count": 0,
      "outputs": [
        {
          "output_type": "execute_result",
          "data": {
            "text/plain": [
              "array([1., 1., 1., 1., 1.])"
            ]
          },
          "metadata": {
            "tags": []
          },
          "execution_count": 22
        }
      ]
    },
    {
      "cell_type": "code",
      "metadata": {
        "id": "t5EmHdCRxyf9",
        "colab_type": "code",
        "outputId": "4ac3cb5e-fd84-420c-d30d-1b9e09505c94",
        "colab": {
          "base_uri": "https://localhost:8080/",
          "height": 34
        }
      },
      "source": [
        "modelo_lr_cv= LogisticRegression()\n",
        "cross_val_score(modelo_lr_cv, MatrizAB, ArrayAB, cv = 5)"
      ],
      "execution_count": 0,
      "outputs": [
        {
          "output_type": "execute_result",
          "data": {
            "text/plain": [
              "array([1., 1., 1., 1., 1.])"
            ]
          },
          "metadata": {
            "tags": []
          },
          "execution_count": 50
        }
      ]
    },
    {
      "cell_type": "code",
      "metadata": {
        "id": "OEBu6_gLx-O5",
        "colab_type": "code",
        "outputId": "88d5b06f-26a0-44ed-f76e-50e8610cdce2",
        "colab": {
          "base_uri": "https://localhost:8080/",
          "height": 34
        }
      },
      "source": [
        "modelo_redeN_cv= MLPClassifier()\n",
        "cross_val_score(modelo_redeN_cv, MatrizAB, ArrayAB, cv = 5)"
      ],
      "execution_count": 0,
      "outputs": [
        {
          "output_type": "execute_result",
          "data": {
            "text/plain": [
              "array([0.76470588, 0.90196078, 0.88235294, 0.91176471, 0.79207921])"
            ]
          },
          "metadata": {
            "tags": []
          },
          "execution_count": 51
        }
      ]
    },
    {
      "cell_type": "code",
      "metadata": {
        "id": "OE1BQ29kYawF",
        "colab_type": "code",
        "colab": {}
      },
      "source": [
        "from sklearn.model_selection import LeaveOneOut\n",
        "resultado=cross_val_score(modelo_bayes_cv, MatrizAB, ArrayAB, cv=LeaveOneOut())"
      ],
      "execution_count": 0,
      "outputs": []
    },
    {
      "cell_type": "code",
      "metadata": {
        "id": "JuHaR5p0Yn2i",
        "colab_type": "code",
        "outputId": "90de96d8-c3c4-4c93-db99-b2e3b62d9af7",
        "colab": {
          "base_uri": "https://localhost:8080/",
          "height": 34
        }
      },
      "source": [
        "resultado.mean()"
      ],
      "execution_count": 0,
      "outputs": [
        {
          "output_type": "execute_result",
          "data": {
            "text/plain": [
              "1.0"
            ]
          },
          "metadata": {
            "tags": []
          },
          "execution_count": 49
        }
      ]
    }
  ]
}