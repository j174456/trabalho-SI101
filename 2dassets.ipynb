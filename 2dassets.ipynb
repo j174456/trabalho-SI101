{
  "nbformat": 4,
  "nbformat_minor": 0,
  "metadata": {
    "colab": {
      "name": "2dassets.ipynb",
      "provenance": [],
      "collapsed_sections": [],
      "toc_visible": true,
      "authorship_tag": "ABX9TyPMcI/JSCDYcnmWhsZgXsCU",
      "include_colab_link": true
    },
    "kernelspec": {
      "name": "python3",
      "display_name": "Python 3"
    }
  },
  "cells": [
    {
      "cell_type": "markdown",
      "metadata": {
        "id": "view-in-github",
        "colab_type": "text"
      },
      "source": [
        "<a href=\"https://colab.research.google.com/github/j174456/trabalho-SI101/blob/master/2dassets.ipynb\" target=\"_parent\"><img src=\"https://colab.research.google.com/assets/colab-badge.svg\" alt=\"Open In Colab\"/></a>"
      ]
    },
    {
      "cell_type": "code",
      "metadata": {
        "id": "J0iFPyd6I5Jh",
        "colab_type": "code",
        "colab": {
          "base_uri": "https://localhost:8080/",
          "height": 258
        },
        "outputId": "5b6b8b89-9bdd-4850-ba64-87f7dbe59d30"
      },
      "source": [
        "import seaborn as sns\n",
        "import pandas as pd\n",
        "import matplotlib.pyplot as plt\n",
        "from sklearn.metrics import accuracy_score\n",
        "from sklearn.preprocessing import StandardScaler\n",
        "from sklearn.pipeline import Pipeline\n",
        "from sklearn.model_selection import GridSearchCV \n",
        "from sklearn.model_selection import RandomizedSearchCV\n",
        "import numpy as np\n",
        "ds1= pd.read_csv('2d_dataset_1.csv')\n",
        "ds2= pd.read_csv('2d_dataset_2.csv')\n",
        "ds3= pd.read_csv('2d_dataset_3.csv')\n",
        "ds4= pd.read_csv('2d_dataset_4.csv')\n",
        "ds1.head()"
      ],
      "execution_count": 1,
      "outputs": [
        {
          "output_type": "stream",
          "text": [
            "/usr/local/lib/python3.6/dist-packages/statsmodels/tools/_testing.py:19: FutureWarning: pandas.util.testing is deprecated. Use the functions in the public API at pandas.testing instead.\n",
            "  import pandas.util.testing as tm\n"
          ],
          "name": "stderr"
        },
        {
          "output_type": "execute_result",
          "data": {
            "text/html": [
              "<div>\n",
              "<style scoped>\n",
              "    .dataframe tbody tr th:only-of-type {\n",
              "        vertical-align: middle;\n",
              "    }\n",
              "\n",
              "    .dataframe tbody tr th {\n",
              "        vertical-align: top;\n",
              "    }\n",
              "\n",
              "    .dataframe thead th {\n",
              "        text-align: right;\n",
              "    }\n",
              "</style>\n",
              "<table border=\"1\" class=\"dataframe\">\n",
              "  <thead>\n",
              "    <tr style=\"text-align: right;\">\n",
              "      <th></th>\n",
              "      <th>y</th>\n",
              "      <th>alpha</th>\n",
              "      <th>beta</th>\n",
              "    </tr>\n",
              "  </thead>\n",
              "  <tbody>\n",
              "    <tr>\n",
              "      <th>0</th>\n",
              "      <td>1</td>\n",
              "      <td>94</td>\n",
              "      <td>212</td>\n",
              "    </tr>\n",
              "    <tr>\n",
              "      <th>1</th>\n",
              "      <td>0</td>\n",
              "      <td>875</td>\n",
              "      <td>700</td>\n",
              "    </tr>\n",
              "    <tr>\n",
              "      <th>2</th>\n",
              "      <td>0</td>\n",
              "      <td>877</td>\n",
              "      <td>766</td>\n",
              "    </tr>\n",
              "    <tr>\n",
              "      <th>3</th>\n",
              "      <td>0</td>\n",
              "      <td>811</td>\n",
              "      <td>941</td>\n",
              "    </tr>\n",
              "    <tr>\n",
              "      <th>4</th>\n",
              "      <td>1</td>\n",
              "      <td>97</td>\n",
              "      <td>178</td>\n",
              "    </tr>\n",
              "  </tbody>\n",
              "</table>\n",
              "</div>"
            ],
            "text/plain": [
              "   y  alpha  beta\n",
              "0  1     94   212\n",
              "1  0    875   700\n",
              "2  0    877   766\n",
              "3  0    811   941\n",
              "4  1     97   178"
            ]
          },
          "metadata": {
            "tags": []
          },
          "execution_count": 1
        }
      ]
    },
    {
      "cell_type": "markdown",
      "metadata": {
        "id": "hLrYoOdZF-4G",
        "colab_type": "text"
      },
      "source": [
        "##analise do dataset"
      ]
    },
    {
      "cell_type": "code",
      "metadata": {
        "id": "sDTEe-xwOJz0",
        "colab_type": "code",
        "colab": {
          "base_uri": "https://localhost:8080/",
          "height": 297
        },
        "outputId": "ad89d858-a167-4946-c8cb-0475e326f730"
      },
      "source": [
        "ds1.describe()"
      ],
      "execution_count": 2,
      "outputs": [
        {
          "output_type": "execute_result",
          "data": {
            "text/html": [
              "<div>\n",
              "<style scoped>\n",
              "    .dataframe tbody tr th:only-of-type {\n",
              "        vertical-align: middle;\n",
              "    }\n",
              "\n",
              "    .dataframe tbody tr th {\n",
              "        vertical-align: top;\n",
              "    }\n",
              "\n",
              "    .dataframe thead th {\n",
              "        text-align: right;\n",
              "    }\n",
              "</style>\n",
              "<table border=\"1\" class=\"dataframe\">\n",
              "  <thead>\n",
              "    <tr style=\"text-align: right;\">\n",
              "      <th></th>\n",
              "      <th>y</th>\n",
              "      <th>alpha</th>\n",
              "      <th>beta</th>\n",
              "    </tr>\n",
              "  </thead>\n",
              "  <tbody>\n",
              "    <tr>\n",
              "      <th>count</th>\n",
              "      <td>509.000000</td>\n",
              "      <td>509.000000</td>\n",
              "      <td>509.000000</td>\n",
              "    </tr>\n",
              "    <tr>\n",
              "      <th>mean</th>\n",
              "      <td>0.473477</td>\n",
              "      <td>521.041257</td>\n",
              "      <td>529.379175</td>\n",
              "    </tr>\n",
              "    <tr>\n",
              "      <th>std</th>\n",
              "      <td>0.499787</td>\n",
              "      <td>328.287624</td>\n",
              "      <td>334.076091</td>\n",
              "    </tr>\n",
              "    <tr>\n",
              "      <th>min</th>\n",
              "      <td>0.000000</td>\n",
              "      <td>74.000000</td>\n",
              "      <td>58.000000</td>\n",
              "    </tr>\n",
              "    <tr>\n",
              "      <th>25%</th>\n",
              "      <td>0.000000</td>\n",
              "      <td>186.000000</td>\n",
              "      <td>192.000000</td>\n",
              "    </tr>\n",
              "    <tr>\n",
              "      <th>50%</th>\n",
              "      <td>0.000000</td>\n",
              "      <td>720.000000</td>\n",
              "      <td>715.000000</td>\n",
              "    </tr>\n",
              "    <tr>\n",
              "      <th>75%</th>\n",
              "      <td>1.000000</td>\n",
              "      <td>833.000000</td>\n",
              "      <td>846.000000</td>\n",
              "    </tr>\n",
              "    <tr>\n",
              "      <th>max</th>\n",
              "      <td>1.000000</td>\n",
              "      <td>940.000000</td>\n",
              "      <td>961.000000</td>\n",
              "    </tr>\n",
              "  </tbody>\n",
              "</table>\n",
              "</div>"
            ],
            "text/plain": [
              "                y       alpha        beta\n",
              "count  509.000000  509.000000  509.000000\n",
              "mean     0.473477  521.041257  529.379175\n",
              "std      0.499787  328.287624  334.076091\n",
              "min      0.000000   74.000000   58.000000\n",
              "25%      0.000000  186.000000  192.000000\n",
              "50%      0.000000  720.000000  715.000000\n",
              "75%      1.000000  833.000000  846.000000\n",
              "max      1.000000  940.000000  961.000000"
            ]
          },
          "metadata": {
            "tags": []
          },
          "execution_count": 2
        }
      ]
    },
    {
      "cell_type": "code",
      "metadata": {
        "id": "Mp9i12q1GYVN",
        "colab_type": "code",
        "colab": {
          "base_uri": "https://localhost:8080/",
          "height": 221
        },
        "outputId": "8202e20d-c063-445f-9080-a94001062070"
      },
      "source": [
        "ds1.alpha.value_counts()"
      ],
      "execution_count": 3,
      "outputs": [
        {
          "output_type": "execute_result",
          "data": {
            "text/plain": [
              "141    5\n",
              "272    4\n",
              "754    4\n",
              "812    4\n",
              "826    4\n",
              "      ..\n",
              "199    1\n",
              "198    1\n",
              "196    1\n",
              "787    1\n",
              "904    1\n",
              "Name: alpha, Length: 306, dtype: int64"
            ]
          },
          "metadata": {
            "tags": []
          },
          "execution_count": 3
        }
      ]
    },
    {
      "cell_type": "code",
      "metadata": {
        "id": "CKDHS5hzGgwt",
        "colab_type": "code",
        "colab": {
          "base_uri": "https://localhost:8080/",
          "height": 221
        },
        "outputId": "c0b8d251-67a8-4e86-dabc-7e7ef211d77e"
      },
      "source": [
        "ds1.beta.value_counts()"
      ],
      "execution_count": 4,
      "outputs": [
        {
          "output_type": "execute_result",
          "data": {
            "text/plain": [
              "224    5\n",
              "841    5\n",
              "154    5\n",
              "168    4\n",
              "182    4\n",
              "      ..\n",
              "235    1\n",
              "746    1\n",
              "134    1\n",
              "243    1\n",
              "856    1\n",
              "Name: beta, Length: 325, dtype: int64"
            ]
          },
          "metadata": {
            "tags": []
          },
          "execution_count": 4
        }
      ]
    },
    {
      "cell_type": "code",
      "metadata": {
        "id": "2aCMFVQnGv3Y",
        "colab_type": "code",
        "colab": {
          "base_uri": "https://localhost:8080/",
          "height": 68
        },
        "outputId": "0549fb29-04ea-4d84-deff-66b67f2b04f4"
      },
      "source": [
        "ds1.y.value_counts()"
      ],
      "execution_count": 5,
      "outputs": [
        {
          "output_type": "execute_result",
          "data": {
            "text/plain": [
              "0    268\n",
              "1    241\n",
              "Name: y, dtype: int64"
            ]
          },
          "metadata": {
            "tags": []
          },
          "execution_count": 5
        }
      ]
    },
    {
      "cell_type": "code",
      "metadata": {
        "id": "b60iuzviN6vs",
        "colab_type": "code",
        "colab": {
          "base_uri": "https://localhost:8080/",
          "height": 282
        },
        "outputId": "f23b4a81-62fa-4352-b99a-1277d137958c"
      },
      "source": [
        "ds1.alpha.value_counts().sort_index().plot.hist()"
      ],
      "execution_count": 6,
      "outputs": [
        {
          "output_type": "execute_result",
          "data": {
            "text/plain": [
              "<matplotlib.axes._subplots.AxesSubplot at 0x7f5bd2e6d5c0>"
            ]
          },
          "metadata": {
            "tags": []
          },
          "execution_count": 6
        },
        {
          "output_type": "display_data",
          "data": {
            "image/png": "[encoded data removed]",
            "text/plain": [
              "<Figure size 432x288 with 1 Axes>"
            ]
          },
          "metadata": {
            "tags": [],
            "needs_background": "light"
          }
        }
      ]
    },
    {
      "cell_type": "code",
      "metadata": {
        "id": "miYLoqEmO_Cg",
        "colab_type": "code",
        "colab": {
          "base_uri": "https://localhost:8080/",
          "height": 296
        },
        "outputId": "ef45dc62-2592-4f93-e02a-5ccb74c8d218"
      },
      "source": [
        "sns.countplot(x=\"y\",data=ds1)"
      ],
      "execution_count": 7,
      "outputs": [
        {
          "output_type": "execute_result",
          "data": {
            "text/plain": [
              "<matplotlib.axes._subplots.AxesSubplot at 0x7f5bd2d5b710>"
            ]
          },
          "metadata": {
            "tags": []
          },
          "execution_count": 7
        },
        {
          "output_type": "display_data",
          "data": {
            "image/png": "[encoded data removed]",
            "text/plain": [
              "<Figure size 432x288 with 1 Axes>"
            ]
          },
          "metadata": {
            "tags": [],
            "needs_background": "light"
          }
        }
      ]
    },
    {
      "cell_type": "code",
      "metadata": {
        "id": "HCrk6EyRQTh3",
        "colab_type": "code",
        "colab": {
          "base_uri": "https://localhost:8080/",
          "height": 440
        },
        "outputId": "c14a5ab9-3290-4c0b-a8aa-90ac56814f72"
      },
      "source": [
        "sns.factorplot(x=\"alpha\",col=\"y\",kind=\"count\", data=ds1)"
      ],
      "execution_count": 8,
      "outputs": [
        {
          "output_type": "stream",
          "text": [
            "/usr/local/lib/python3.6/dist-packages/seaborn/categorical.py:3666: UserWarning: The `factorplot` function has been renamed to `catplot`. The original name will be removed in a future release. Please update your code. Note that the default `kind` in `factorplot` (`'point'`) has changed `'strip'` in `catplot`.\n",
            "  warnings.warn(msg)\n"
          ],
          "name": "stderr"
        },
        {
          "output_type": "execute_result",
          "data": {
            "text/plain": [
              "<seaborn.axisgrid.FacetGrid at 0x7f5bd287cd68>"
            ]
          },
          "metadata": {
            "tags": []
          },
          "execution_count": 8
        },
        {
          "output_type": "display_data",
          "data": {
            "image/png": "[encoded data removed]",
            "text/plain": [
              "<Figure size 720x360 with 2 Axes>"
            ]
          },
          "metadata": {
            "tags": [],
            "needs_background": "light"
          }
        }
      ]
    },
    {
      "cell_type": "code",
      "metadata": {
        "id": "t7rvju8-Qne0",
        "colab_type": "code",
        "colab": {
          "base_uri": "https://localhost:8080/",
          "height": 440
        },
        "outputId": "b9481403-51cb-4598-9857-ee0c01c29f0d"
      },
      "source": [
        "sns.factorplot(x=\"beta\",col=\"y\",kind=\"count\", data=ds1)"
      ],
      "execution_count": 9,
      "outputs": [
        {
          "output_type": "stream",
          "text": [
            "/usr/local/lib/python3.6/dist-packages/seaborn/categorical.py:3666: UserWarning: The `factorplot` function has been renamed to `catplot`. The original name will be removed in a future release. Please update your code. Note that the default `kind` in `factorplot` (`'point'`) has changed `'strip'` in `catplot`.\n",
            "  warnings.warn(msg)\n"
          ],
          "name": "stderr"
        },
        {
          "output_type": "execute_result",
          "data": {
            "text/plain": [
              "<seaborn.axisgrid.FacetGrid at 0x7f5be9aa6400>"
            ]
          },
          "metadata": {
            "tags": []
          },
          "execution_count": 9
        },
        {
          "output_type": "display_data",
          "data": {
            "image/png": "[encoded data removed]",
            "text/plain": [
              "<Figure size 720x360 with 2 Axes>"
            ]
          },
          "metadata": {
            "tags": [],
            "needs_background": "light"
          }
        }
      ]
    },
    {
      "cell_type": "code",
      "metadata": {
        "id": "bHoyADPeSc_X",
        "colab_type": "code",
        "colab": {
          "base_uri": "https://localhost:8080/",
          "height": 299
        },
        "outputId": "39df8985-daa4-495f-9ffe-0eaec07cffc0"
      },
      "source": [
        "ds1.plot.scatter(x=\"y\",y=\"beta\")"
      ],
      "execution_count": 10,
      "outputs": [
        {
          "output_type": "execute_result",
          "data": {
            "text/plain": [
              "<matplotlib.axes._subplots.AxesSubplot at 0x7f5bce55ffd0>"
            ]
          },
          "metadata": {
            "tags": []
          },
          "execution_count": 10
        },
        {
          "output_type": "display_data",
          "data": {
            "image/png": "[encoded data removed]",
            "text/plain": [
              "<Figure size 432x288 with 1 Axes>"
            ]
          },
          "metadata": {
            "tags": [],
            "needs_background": "light"
          }
        }
      ]
    },
    {
      "cell_type": "code",
      "metadata": {
        "id": "zKXs8J4xS2FC",
        "colab_type": "code",
        "colab": {
          "base_uri": "https://localhost:8080/",
          "height": 296
        },
        "outputId": "a8f6ac2e-36f0-4a47-abab-f64c2161284c"
      },
      "source": [
        "ds1.plot.scatter(x=\"y\",y=\"alpha\")"
      ],
      "execution_count": 11,
      "outputs": [
        {
          "output_type": "execute_result",
          "data": {
            "text/plain": [
              "<matplotlib.axes._subplots.AxesSubplot at 0x7f5bce42af98>"
            ]
          },
          "metadata": {
            "tags": []
          },
          "execution_count": 11
        },
        {
          "output_type": "display_data",
          "data": {
            "image/png": "[encoded data removed]",
            "text/plain": [
              "<Figure size 432x288 with 1 Axes>"
            ]
          },
          "metadata": {
            "tags": [],
            "needs_background": "light"
          }
        }
      ]
    },
    {
      "cell_type": "markdown",
      "metadata": {
        "id": "i1Ryt7xRA8ny",
        "colab_type": "text"
      },
      "source": [
        "# Testes manuais"
      ]
    },
    {
      "cell_type": "code",
      "metadata": {
        "id": "O1tWqZcnBDdR",
        "colab_type": "code",
        "colab": {
          "base_uri": "https://localhost:8080/",
          "height": 34
        },
        "outputId": "cd663fe1-6e5a-44fe-a347-091a318cdc4a"
      },
      "source": [
        "#teste 1\n",
        "testey =(ds1.alpha >= 521)\n",
        "testey=testey.apply(lambda x:int(x))\n",
        "testey\n",
        "accuracy_score(ds1.y,testey)"
      ],
      "execution_count": 12,
      "outputs": [
        {
          "output_type": "execute_result",
          "data": {
            "text/plain": [
              "0.0"
            ]
          },
          "metadata": {
            "tags": []
          },
          "execution_count": 12
        }
      ]
    },
    {
      "cell_type": "code",
      "metadata": {
        "id": "5gcDxcRPCbCQ",
        "colab_type": "code",
        "colab": {
          "base_uri": "https://localhost:8080/",
          "height": 34
        },
        "outputId": "ffb20974-b275-4183-e1af-770bb89b889c"
      },
      "source": [
        "#teste 2\n",
        "testey =(ds1.beta >= 529)\n",
        "testey=testey.apply(lambda x:int(x))\n",
        "accuracy_score(ds1.y,testey)"
      ],
      "execution_count": 13,
      "outputs": [
        {
          "output_type": "execute_result",
          "data": {
            "text/plain": [
              "0.0"
            ]
          },
          "metadata": {
            "tags": []
          },
          "execution_count": 13
        }
      ]
    },
    {
      "cell_type": "code",
      "metadata": {
        "id": "XBYcNZeOCyrT",
        "colab_type": "code",
        "colab": {
          "base_uri": "https://localhost:8080/",
          "height": 34
        },
        "outputId": "d6e890b7-69c9-49aa-f910-cc1cedc8e332"
      },
      "source": [
        "#teste 3\n",
        "testey =(ds1.alpha % ds1.beta == 0)\n",
        "testey=testey.apply(lambda x:int(x))\n",
        "accuracy_score(ds1.y,testey)"
      ],
      "execution_count": 14,
      "outputs": [
        {
          "output_type": "execute_result",
          "data": {
            "text/plain": [
              "0.5245579567779961"
            ]
          },
          "metadata": {
            "tags": []
          },
          "execution_count": 14
        }
      ]
    },
    {
      "cell_type": "code",
      "metadata": {
        "id": "ZVzRJY0KEtnt",
        "colab_type": "code",
        "colab": {
          "base_uri": "https://localhost:8080/",
          "height": 34
        },
        "outputId": "1eaec6d8-cf0e-446e-8160-1112b728480d"
      },
      "source": [
        "#teste 4\n",
        "testey =(ds1.beta % ds1.alpha == 0)\n",
        "testey=testey.apply(lambda x:int(x))\n",
        "accuracy_score(ds1.y,testey)"
      ],
      "execution_count": 15,
      "outputs": [
        {
          "output_type": "execute_result",
          "data": {
            "text/plain": [
              "0.5245579567779961"
            ]
          },
          "metadata": {
            "tags": []
          },
          "execution_count": 15
        }
      ]
    },
    {
      "cell_type": "code",
      "metadata": {
        "id": "si5RMiwkEVRo",
        "colab_type": "code",
        "colab": {
          "base_uri": "https://localhost:8080/",
          "height": 34
        },
        "outputId": "5fc8c024-8634-4587-bef0-24ff254ddbe2"
      },
      "source": [
        "#teste 5\n",
        "testey =((ds1.alpha + ds1.beta)%2 == 0)\n",
        "testey=testey.apply(lambda x:int(x))\n",
        "accuracy_score(ds1.y,testey)"
      ],
      "execution_count": 16,
      "outputs": [
        {
          "output_type": "execute_result",
          "data": {
            "text/plain": [
              "0.5049115913555993"
            ]
          },
          "metadata": {
            "tags": []
          },
          "execution_count": 16
        }
      ]
    },
    {
      "cell_type": "code",
      "metadata": {
        "id": "9uKBWN8KEjIh",
        "colab_type": "code",
        "colab": {
          "base_uri": "https://localhost:8080/",
          "height": 34
        },
        "outputId": "279081bd-0281-47f5-9ea2-6b3afa99153c"
      },
      "source": [
        "#teste 6\n",
        "testey =((ds1.alpha * ds1.beta)%2 == 0)\n",
        "testey=testey.apply(lambda x:int(x))\n",
        "accuracy_score(ds1.y,testey)"
      ],
      "execution_count": 17,
      "outputs": [
        {
          "output_type": "execute_result",
          "data": {
            "text/plain": [
              "0.4911591355599214"
            ]
          },
          "metadata": {
            "tags": []
          },
          "execution_count": 17
        }
      ]
    },
    {
      "cell_type": "code",
      "metadata": {
        "id": "l1hDraVDFDS_",
        "colab_type": "code",
        "colab": {
          "base_uri": "https://localhost:8080/",
          "height": 34
        },
        "outputId": "2c16f301-2c52-4a05-8db3-3158fa5437a9"
      },
      "source": [
        "#teste 7\n",
        "testey =((ds1.alpha * 2)+ds1.beta == 0)\n",
        "testey=testey.apply(lambda x:int(x))\n",
        "accuracy_score(ds1.y,testey)"
      ],
      "execution_count": 18,
      "outputs": [
        {
          "output_type": "execute_result",
          "data": {
            "text/plain": [
              "0.5265225933202358"
            ]
          },
          "metadata": {
            "tags": []
          },
          "execution_count": 18
        }
      ]
    },
    {
      "cell_type": "code",
      "metadata": {
        "id": "HoKP4FepHsY2",
        "colab_type": "code",
        "colab": {
          "base_uri": "https://localhost:8080/",
          "height": 34
        },
        "outputId": "19aa0d13-3520-4f76-c186-ca032c979166"
      },
      "source": [
        "#teste 8\n",
        "testey =((ds1.beta * 2)+ds1.alpha == 0)\n",
        "testey=testey.apply(lambda x:int(x))\n",
        "accuracy_score(ds1.y,testey)"
      ],
      "execution_count": 19,
      "outputs": [
        {
          "output_type": "execute_result",
          "data": {
            "text/plain": [
              "0.5265225933202358"
            ]
          },
          "metadata": {
            "tags": []
          },
          "execution_count": 19
        }
      ]
    },
    {
      "cell_type": "markdown",
      "metadata": {
        "id": "a7FBmUVM16Zi",
        "colab_type": "text"
      },
      "source": [
        "# Scikit\n",
        "\n"
      ]
    },
    {
      "cell_type": "markdown",
      "metadata": {
        "id": "Yc0OJahFSolr",
        "colab_type": "text"
      },
      "source": [
        "##Modelo Bayes"
      ]
    },
    {
      "cell_type": "code",
      "metadata": {
        "id": "TIo01qNpP4Fo",
        "colab_type": "code",
        "colab": {}
      },
      "source": [
        "from sklearn.naive_bayes import GaussianNB # 1. Escolha do modelo.\n",
        "modelo_bayes = GaussianNB()                # 2. Escolha dos hiperparâmetros e intanciação."
      ],
      "execution_count": 20,
      "outputs": []
    },
    {
      "cell_type": "code",
      "metadata": {
        "id": "dToJHH-lQJAd",
        "colab_type": "code",
        "colab": {
          "base_uri": "https://localhost:8080/",
          "height": 419
        },
        "outputId": "da714df8-e1ca-47de-97e3-9725414cf84f"
      },
      "source": [
        "# 3 feature matrix\n",
        "MatrizAB= ds1.loc[:,['alpha','beta']]\n",
        "MatrizAB"
      ],
      "execution_count": 21,
      "outputs": [
        {
          "output_type": "execute_result",
          "data": {
            "text/html": [
              "<div>\n",
              "<style scoped>\n",
              "    .dataframe tbody tr th:only-of-type {\n",
              "        vertical-align: middle;\n",
              "    }\n",
              "\n",
              "    .dataframe tbody tr th {\n",
              "        vertical-align: top;\n",
              "    }\n",
              "\n",
              "    .dataframe thead th {\n",
              "        text-align: right;\n",
              "    }\n",
              "</style>\n",
              "<table border=\"1\" class=\"dataframe\">\n",
              "  <thead>\n",
              "    <tr style=\"text-align: right;\">\n",
              "      <th></th>\n",
              "      <th>alpha</th>\n",
              "      <th>beta</th>\n",
              "    </tr>\n",
              "  </thead>\n",
              "  <tbody>\n",
              "    <tr>\n",
              "      <th>0</th>\n",
              "      <td>94</td>\n",
              "      <td>212</td>\n",
              "    </tr>\n",
              "    <tr>\n",
              "      <th>1</th>\n",
              "      <td>875</td>\n",
              "      <td>700</td>\n",
              "    </tr>\n",
              "    <tr>\n",
              "      <th>2</th>\n",
              "      <td>877</td>\n",
              "      <td>766</td>\n",
              "    </tr>\n",
              "    <tr>\n",
              "      <th>3</th>\n",
              "      <td>811</td>\n",
              "      <td>941</td>\n",
              "    </tr>\n",
              "    <tr>\n",
              "      <th>4</th>\n",
              "      <td>97</td>\n",
              "      <td>178</td>\n",
              "    </tr>\n",
              "    <tr>\n",
              "      <th>...</th>\n",
              "      <td>...</td>\n",
              "      <td>...</td>\n",
              "    </tr>\n",
              "    <tr>\n",
              "      <th>504</th>\n",
              "      <td>202</td>\n",
              "      <td>211</td>\n",
              "    </tr>\n",
              "    <tr>\n",
              "      <th>505</th>\n",
              "      <td>241</td>\n",
              "      <td>202</td>\n",
              "    </tr>\n",
              "    <tr>\n",
              "      <th>506</th>\n",
              "      <td>158</td>\n",
              "      <td>137</td>\n",
              "    </tr>\n",
              "    <tr>\n",
              "      <th>507</th>\n",
              "      <td>210</td>\n",
              "      <td>205</td>\n",
              "    </tr>\n",
              "    <tr>\n",
              "      <th>508</th>\n",
              "      <td>854</td>\n",
              "      <td>847</td>\n",
              "    </tr>\n",
              "  </tbody>\n",
              "</table>\n",
              "<p>509 rows × 2 columns</p>\n",
              "</div>"
            ],
            "text/plain": [
              "     alpha  beta\n",
              "0       94   212\n",
              "1      875   700\n",
              "2      877   766\n",
              "3      811   941\n",
              "4       97   178\n",
              "..     ...   ...\n",
              "504    202   211\n",
              "505    241   202\n",
              "506    158   137\n",
              "507    210   205\n",
              "508    854   847\n",
              "\n",
              "[509 rows x 2 columns]"
            ]
          },
          "metadata": {
            "tags": []
          },
          "execution_count": 21
        }
      ]
    },
    {
      "cell_type": "code",
      "metadata": {
        "id": "OwWhiOJeQk27",
        "colab_type": "code",
        "colab": {
          "base_uri": "https://localhost:8080/",
          "height": 221
        },
        "outputId": "2b0666e0-2ed1-4793-85da-345d3b4a3820"
      },
      "source": [
        "#3 Target Array\n",
        "ArrayAB= ds1.y\n",
        "ArrayAB"
      ],
      "execution_count": 22,
      "outputs": [
        {
          "output_type": "execute_result",
          "data": {
            "text/plain": [
              "0      1\n",
              "1      0\n",
              "2      0\n",
              "3      0\n",
              "4      1\n",
              "      ..\n",
              "504    1\n",
              "505    1\n",
              "506    1\n",
              "507    1\n",
              "508    0\n",
              "Name: y, Length: 509, dtype: int64"
            ]
          },
          "metadata": {
            "tags": []
          },
          "execution_count": 22
        }
      ]
    },
    {
      "cell_type": "code",
      "metadata": {
        "id": "zK5GhK6MQ_47",
        "colab_type": "code",
        "colab": {}
      },
      "source": [
        "# 3.3 Separação do Banco de Dados\n",
        "#from sklearn.model_selection import train_test_split\n",
        "Mteste1 = ds2.loc[:,['alpha','beta']]\n",
        "Ateste1 = ds2.y\n"
      ],
      "execution_count": 23,
      "outputs": []
    },
    {
      "cell_type": "code",
      "metadata": {
        "id": "FU3V1yiWRra9",
        "colab_type": "code",
        "colab": {
          "base_uri": "https://localhost:8080/",
          "height": 34
        },
        "outputId": "29a004b5-9d63-4317-d605-b2cbe17f0bb4"
      },
      "source": [
        "modelo_bayes.fit(MatrizAB,ArrayAB)"
      ],
      "execution_count": 24,
      "outputs": [
        {
          "output_type": "execute_result",
          "data": {
            "text/plain": [
              "GaussianNB(priors=None, var_smoothing=1e-09)"
            ]
          },
          "metadata": {
            "tags": []
          },
          "execution_count": 24
        }
      ]
    },
    {
      "cell_type": "code",
      "metadata": {
        "id": "VW2VB3PDR1Eq",
        "colab_type": "code",
        "colab": {}
      },
      "source": [
        "modelo_bayes_resultado=modelo_bayes.predict(Mteste1)"
      ],
      "execution_count": 25,
      "outputs": []
    },
    {
      "cell_type": "code",
      "metadata": {
        "id": "XgfUDtr8SPlD",
        "colab_type": "code",
        "colab": {
          "base_uri": "https://localhost:8080/",
          "height": 544
        },
        "outputId": "ca3d2921-a6c9-4c0e-a910-9ef496b09491"
      },
      "source": [
        "modelo_bayes_resultado"
      ],
      "execution_count": 26,
      "outputs": [
        {
          "output_type": "execute_result",
          "data": {
            "text/plain": [
              "array([0, 0, 1, 0, 0, 0, 0, 1, 0, 0, 1, 1, 1, 0, 0, 0, 0, 1, 1, 0, 0, 0,\n",
              "       1, 0, 0, 0, 0, 1, 0, 1, 0, 0, 0, 0, 0, 1, 1, 0, 0, 1, 1, 0, 1, 1,\n",
              "       1, 0, 0, 1, 0, 0, 1, 0, 1, 0, 1, 0, 0, 1, 0, 0, 0, 1, 0, 0, 1, 1,\n",
              "       0, 0, 0, 0, 0, 0, 1, 0, 0, 1, 0, 0, 0, 1, 1, 0, 0, 0, 1, 0, 1, 0,\n",
              "       0, 0, 0, 0, 0, 1, 1, 0, 0, 0, 1, 0, 1, 1, 0, 0, 0, 0, 0, 1, 1, 1,\n",
              "       0, 1, 0, 1, 0, 1, 0, 0, 1, 1, 0, 0, 1, 0, 0, 0, 1, 1, 1, 1, 1, 0,\n",
              "       1, 0, 0, 1, 1, 0, 1, 1, 1, 0, 0, 0, 1, 0, 1, 1, 1, 0, 0, 1, 0, 0,\n",
              "       1, 1, 0, 1, 0, 0, 0, 1, 1, 1, 0, 0, 1, 0, 0, 0, 0, 1, 0, 0, 1, 1,\n",
              "       1, 1, 1, 1, 1, 0, 0, 0, 0, 1, 1, 0, 0, 1, 0, 1, 0, 1, 0, 0, 1, 0,\n",
              "       0, 0, 0, 0, 0, 0, 1, 0, 0, 0, 0, 1, 0, 1, 1, 1, 1, 1, 0, 1, 0, 1,\n",
              "       0, 0, 0, 1, 0, 1, 0, 0, 1, 1, 1, 1, 0, 1, 0, 0, 0, 1, 1, 0, 0, 0,\n",
              "       0, 1, 0, 0, 0, 1, 1, 1, 0, 1, 0, 0, 1, 1, 0, 0, 0, 1, 1, 1, 0, 1,\n",
              "       0, 0, 0, 1, 1, 0, 1, 0, 0, 1, 0, 0, 1, 0, 1, 1, 1, 1, 1, 1, 1, 0,\n",
              "       0, 0, 1, 0, 1, 0, 1, 1, 1, 0, 1, 1, 1, 0, 1, 1, 0, 1, 1, 0, 1, 0,\n",
              "       1, 0, 0, 1, 0, 0, 0, 1, 1, 0, 1, 1, 1, 1, 0, 1, 1, 1, 1, 1, 0, 0,\n",
              "       1, 1, 0, 0, 0, 1, 0, 1, 0, 0, 0, 0, 1, 0, 1, 1, 1, 0, 1, 1, 0, 1,\n",
              "       0, 0, 1, 1, 0, 1, 1, 0, 0, 0, 1, 0, 1, 1, 1, 1, 0, 0, 1, 1, 0, 0,\n",
              "       1, 1, 1, 0, 0, 1, 1, 1, 1, 1, 1, 1, 0, 1, 0, 1, 1, 0, 0, 0, 1, 0,\n",
              "       1, 1, 0, 1, 0, 0, 1, 1, 0, 0, 1, 1, 1, 0, 0, 1, 1, 0, 0, 0, 1, 0,\n",
              "       0, 1, 0, 0, 0, 1, 1, 0, 1, 0, 1, 0, 0, 0, 1, 1, 0, 0, 1, 1, 0, 0,\n",
              "       1, 1, 0, 1, 0, 0, 0, 0, 1, 0, 0, 1, 1, 0, 1, 0, 0, 1, 0, 1, 0, 0,\n",
              "       0, 0, 0, 1, 0, 0, 0, 0, 1, 1, 1, 0, 0, 0, 1, 1, 1, 0, 1, 0, 1, 0,\n",
              "       0, 0, 0, 1, 1, 0, 0, 0, 1, 0, 0, 0, 0, 0, 0, 0, 0, 0, 0, 1, 1, 1,\n",
              "       1, 1, 0, 0, 1, 0, 1, 1, 1, 0, 0, 1, 1, 0, 0, 0, 0, 0, 0, 1, 1, 1,\n",
              "       1, 1, 0, 1, 1, 0, 1, 0, 0, 1, 0, 0, 0, 1, 1, 1, 0, 0, 0, 0, 1, 0,\n",
              "       1, 1, 1, 1, 0, 1, 1, 1, 0, 1, 1, 0, 0, 0, 1, 0, 0, 0, 0, 0, 1, 0,\n",
              "       1, 0, 1, 1, 0, 1, 1, 0, 1, 1, 1, 1, 1, 1, 1, 0, 1, 1, 0, 0, 1, 1,\n",
              "       0, 1, 0, 1, 0, 0, 0, 1, 1, 0, 1, 0, 1, 0, 0, 0, 1, 0, 1, 0, 0, 1,\n",
              "       1, 1, 0, 1, 0, 0, 0, 1, 1, 0, 0, 1, 0, 0, 0, 0, 1, 1, 0, 0, 1, 0,\n",
              "       0, 0, 0, 1, 1, 1, 1, 0, 0, 0, 1, 0, 1, 1, 1, 0, 0, 1, 0, 0, 0, 1,\n",
              "       1, 0, 1, 0, 1, 1, 0, 0, 1, 0, 0, 0, 0, 1, 0, 0])"
            ]
          },
          "metadata": {
            "tags": []
          },
          "execution_count": 26
        }
      ]
    },
    {
      "cell_type": "code",
      "metadata": {
        "id": "wSzhQYPiSS4m",
        "colab_type": "code",
        "colab": {
          "base_uri": "https://localhost:8080/",
          "height": 34
        },
        "outputId": "0670a5f8-1bab-4c9b-8a56-e016fbad7db3"
      },
      "source": [
        "#teste de acuracia\n",
        "accuracy_score(Ateste1,modelo_bayes_resultado)"
      ],
      "execution_count": 27,
      "outputs": [
        {
          "output_type": "execute_result",
          "data": {
            "text/plain": [
              "0.849112426035503"
            ]
          },
          "metadata": {
            "tags": []
          },
          "execution_count": 27
        }
      ]
    },
    {
      "cell_type": "markdown",
      "metadata": {
        "id": "On3dBtwNS7qp",
        "colab_type": "text"
      },
      "source": [
        "# ## modelo da árvore de decisões"
      ]
    },
    {
      "cell_type": "code",
      "metadata": {
        "id": "UoEX8AEcS_97",
        "colab_type": "code",
        "colab": {
          "base_uri": "https://localhost:8080/",
          "height": 119
        },
        "outputId": "e4b30572-1dc8-4aca-d64f-58a332b30108"
      },
      "source": [
        "from sklearn.tree import DecisionTreeClassifier  \n",
        "modelo_adecisao = DecisionTreeClassifier()\n",
        "modelo_adecisao.fit(MatrizAB,ArrayAB)"
      ],
      "execution_count": 28,
      "outputs": [
        {
          "output_type": "execute_result",
          "data": {
            "text/plain": [
              "DecisionTreeClassifier(ccp_alpha=0.0, class_weight=None, criterion='gini',\n",
              "                       max_depth=None, max_features=None, max_leaf_nodes=None,\n",
              "                       min_impurity_decrease=0.0, min_impurity_split=None,\n",
              "                       min_samples_leaf=1, min_samples_split=2,\n",
              "                       min_weight_fraction_leaf=0.0, presort='deprecated',\n",
              "                       random_state=None, splitter='best')"
            ]
          },
          "metadata": {
            "tags": []
          },
          "execution_count": 28
        }
      ]
    },
    {
      "cell_type": "code",
      "metadata": {
        "id": "AF07fqYiTUQH",
        "colab_type": "code",
        "colab": {}
      },
      "source": [
        "modelo_adecisao_resultado=modelo_adecisao.predict(Mteste1)"
      ],
      "execution_count": 29,
      "outputs": []
    },
    {
      "cell_type": "code",
      "metadata": {
        "id": "fbsoCR92Tfgr",
        "colab_type": "code",
        "colab": {
          "base_uri": "https://localhost:8080/",
          "height": 544
        },
        "outputId": "e83bd1fd-daf7-44ec-91ca-99c61a6deef2"
      },
      "source": [
        "modelo_adecisao_resultado"
      ],
      "execution_count": 30,
      "outputs": [
        {
          "output_type": "execute_result",
          "data": {
            "text/plain": [
              "array([0, 1, 1, 1, 0, 0, 0, 1, 0, 0, 0, 1, 1, 0, 0, 0, 0, 1, 1, 0, 1, 1,\n",
              "       1, 0, 0, 0, 0, 1, 0, 1, 0, 0, 1, 0, 0, 1, 1, 0, 0, 1, 1, 0, 1, 1,\n",
              "       1, 1, 0, 1, 0, 0, 1, 1, 1, 0, 1, 0, 0, 1, 0, 0, 1, 1, 0, 0, 0, 0,\n",
              "       0, 0, 0, 0, 0, 1, 1, 1, 0, 1, 0, 0, 0, 0, 1, 0, 1, 0, 1, 0, 1, 0,\n",
              "       0, 1, 0, 0, 0, 1, 1, 0, 0, 0, 1, 0, 1, 1, 0, 0, 0, 0, 0, 1, 1, 1,\n",
              "       1, 1, 0, 1, 0, 1, 0, 1, 1, 1, 0, 0, 1, 0, 0, 1, 1, 1, 1, 1, 1, 1,\n",
              "       0, 0, 0, 1, 1, 1, 1, 1, 1, 0, 0, 1, 1, 0, 1, 1, 1, 1, 0, 1, 0, 0,\n",
              "       1, 1, 0, 1, 0, 0, 0, 1, 1, 1, 0, 0, 1, 0, 0, 0, 0, 1, 0, 0, 1, 0,\n",
              "       1, 1, 1, 1, 1, 0, 0, 0, 0, 1, 1, 0, 0, 1, 0, 1, 1, 1, 0, 1, 1, 0,\n",
              "       0, 0, 1, 0, 1, 0, 1, 0, 1, 0, 0, 1, 0, 1, 1, 1, 1, 1, 1, 1, 0, 1,\n",
              "       1, 0, 0, 1, 0, 1, 0, 0, 1, 1, 1, 1, 0, 1, 0, 0, 1, 1, 0, 1, 0, 0,\n",
              "       1, 1, 0, 1, 0, 1, 1, 1, 1, 1, 0, 0, 1, 1, 1, 1, 0, 1, 1, 1, 1, 1,\n",
              "       0, 0, 1, 0, 1, 0, 1, 1, 1, 0, 0, 0, 1, 0, 1, 1, 1, 1, 1, 1, 1, 1,\n",
              "       0, 0, 1, 0, 1, 0, 1, 1, 1, 1, 1, 0, 1, 0, 1, 1, 0, 1, 1, 0, 1, 0,\n",
              "       1, 1, 0, 1, 0, 0, 0, 1, 1, 0, 1, 1, 1, 1, 1, 1, 1, 1, 1, 1, 0, 0,\n",
              "       1, 1, 0, 0, 0, 1, 0, 1, 0, 0, 0, 0, 1, 0, 1, 1, 1, 0, 1, 1, 1, 1,\n",
              "       0, 0, 1, 1, 0, 1, 1, 0, 0, 0, 1, 0, 1, 1, 1, 1, 0, 0, 1, 0, 0, 0,\n",
              "       0, 1, 1, 0, 0, 1, 0, 1, 1, 1, 1, 1, 0, 1, 0, 1, 1, 0, 0, 1, 1, 0,\n",
              "       1, 1, 0, 1, 0, 0, 1, 1, 0, 1, 1, 1, 1, 0, 0, 1, 1, 1, 0, 0, 1, 0,\n",
              "       0, 1, 0, 0, 0, 1, 1, 0, 0, 0, 1, 0, 0, 0, 1, 1, 0, 1, 1, 1, 0, 0,\n",
              "       1, 1, 0, 0, 0, 0, 0, 1, 1, 0, 1, 1, 1, 0, 1, 0, 0, 1, 1, 1, 1, 0,\n",
              "       0, 0, 1, 0, 0, 0, 1, 0, 1, 1, 1, 0, 0, 0, 1, 1, 1, 0, 1, 0, 1, 1,\n",
              "       0, 0, 0, 1, 0, 1, 0, 1, 1, 0, 0, 0, 0, 0, 0, 0, 0, 0, 0, 1, 1, 1,\n",
              "       1, 1, 0, 0, 1, 0, 1, 1, 1, 0, 0, 1, 1, 0, 0, 0, 0, 1, 0, 0, 1, 1,\n",
              "       0, 1, 1, 1, 1, 0, 1, 0, 1, 1, 1, 0, 1, 1, 1, 1, 0, 0, 1, 0, 1, 0,\n",
              "       1, 1, 1, 1, 0, 1, 1, 1, 0, 0, 1, 0, 0, 0, 1, 1, 1, 0, 0, 1, 1, 1,\n",
              "       1, 0, 1, 1, 0, 1, 1, 1, 1, 1, 1, 1, 1, 1, 1, 0, 1, 1, 0, 0, 0, 1,\n",
              "       0, 1, 0, 1, 0, 0, 1, 1, 1, 0, 1, 0, 1, 0, 0, 0, 1, 0, 1, 1, 0, 1,\n",
              "       0, 1, 1, 1, 1, 0, 0, 0, 1, 0, 0, 1, 0, 0, 0, 0, 1, 1, 0, 0, 1, 0,\n",
              "       0, 0, 0, 1, 1, 0, 1, 0, 0, 1, 1, 0, 1, 1, 0, 0, 1, 1, 0, 0, 0, 1,\n",
              "       1, 0, 1, 0, 1, 1, 0, 0, 1, 0, 0, 1, 1, 0, 1, 0])"
            ]
          },
          "metadata": {
            "tags": []
          },
          "execution_count": 30
        }
      ]
    },
    {
      "cell_type": "code",
      "metadata": {
        "id": "1rXkr0rlTlJ2",
        "colab_type": "code",
        "colab": {
          "base_uri": "https://localhost:8080/",
          "height": 34
        },
        "outputId": "def3a15f-8634-4b0e-86ea-e5262d8faf2f"
      },
      "source": [
        "accuracy_score(Ateste1,modelo_adecisao_resultado)"
      ],
      "execution_count": 31,
      "outputs": [
        {
          "output_type": "execute_result",
          "data": {
            "text/plain": [
              "0.7204142011834319"
            ]
          },
          "metadata": {
            "tags": []
          },
          "execution_count": 31
        }
      ]
    },
    {
      "cell_type": "markdown",
      "metadata": {
        "id": "x6x0XobmuhUH",
        "colab_type": "text"
      },
      "source": [
        "## Modelo de Regressão logistica"
      ]
    },
    {
      "cell_type": "code",
      "metadata": {
        "id": "uZJawr2aumU2",
        "colab_type": "code",
        "colab": {}
      },
      "source": [
        "from sklearn.linear_model import LogisticRegression\n",
        "modelo_lr=LogisticRegression()"
      ],
      "execution_count": 32,
      "outputs": []
    },
    {
      "cell_type": "code",
      "metadata": {
        "id": "m6z-CAX0uycJ",
        "colab_type": "code",
        "colab": {
          "base_uri": "https://localhost:8080/",
          "height": 102
        },
        "outputId": "737ba7de-c9ae-4bde-b488-39c3bc880896"
      },
      "source": [
        "modelo_lr.fit(MatrizAB,ArrayAB)"
      ],
      "execution_count": 33,
      "outputs": [
        {
          "output_type": "execute_result",
          "data": {
            "text/plain": [
              "LogisticRegression(C=1.0, class_weight=None, dual=False, fit_intercept=True,\n",
              "                   intercept_scaling=1, l1_ratio=None, max_iter=100,\n",
              "                   multi_class='auto', n_jobs=None, penalty='l2',\n",
              "                   random_state=None, solver='lbfgs', tol=0.0001, verbose=0,\n",
              "                   warm_start=False)"
            ]
          },
          "metadata": {
            "tags": []
          },
          "execution_count": 33
        }
      ]
    },
    {
      "cell_type": "code",
      "metadata": {
        "id": "Q7k6FBjJu7eS",
        "colab_type": "code",
        "colab": {}
      },
      "source": [
        "modelo_lr_resultado = modelo_lr.predict(Mteste1)"
      ],
      "execution_count": 34,
      "outputs": []
    },
    {
      "cell_type": "code",
      "metadata": {
        "id": "LaKLei-9vHFn",
        "colab_type": "code",
        "colab": {
          "base_uri": "https://localhost:8080/",
          "height": 34
        },
        "outputId": "e7fa6ce2-bffa-454c-cd14-e057ea443318"
      },
      "source": [
        "accuracy_score(Ateste1,modelo_lr_resultado)"
      ],
      "execution_count": 35,
      "outputs": [
        {
          "output_type": "execute_result",
          "data": {
            "text/plain": [
              "0.8372781065088757"
            ]
          },
          "metadata": {
            "tags": []
          },
          "execution_count": 35
        }
      ]
    },
    {
      "cell_type": "markdown",
      "metadata": {
        "id": "Uc7Ug9bgvypz",
        "colab_type": "text"
      },
      "source": [
        "## Modelo de Rede Neural"
      ]
    },
    {
      "cell_type": "code",
      "metadata": {
        "id": "rVD7kQ3QwG_S",
        "colab_type": "code",
        "colab": {}
      },
      "source": [
        "from sklearn.neural_network import MLPClassifier\n",
        "modelo_redeN = MLPClassifier()"
      ],
      "execution_count": 36,
      "outputs": []
    },
    {
      "cell_type": "code",
      "metadata": {
        "id": "R6BU-bxGwamV",
        "colab_type": "code",
        "colab": {
          "base_uri": "https://localhost:8080/",
          "height": 207
        },
        "outputId": "56d25ec0-9c13-4bbe-970c-566762b67cd2"
      },
      "source": [
        "modelo_redeN.fit(MatrizAB,ArrayAB)"
      ],
      "execution_count": 37,
      "outputs": [
        {
          "output_type": "stream",
          "text": [
            "/usr/local/lib/python3.6/dist-packages/sklearn/neural_network/_multilayer_perceptron.py:571: ConvergenceWarning: Stochastic Optimizer: Maximum iterations (200) reached and the optimization hasn't converged yet.\n",
            "  % self.max_iter, ConvergenceWarning)\n"
          ],
          "name": "stderr"
        },
        {
          "output_type": "execute_result",
          "data": {
            "text/plain": [
              "MLPClassifier(activation='relu', alpha=0.0001, batch_size='auto', beta_1=0.9,\n",
              "              beta_2=0.999, early_stopping=False, epsilon=1e-08,\n",
              "              hidden_layer_sizes=(100,), learning_rate='constant',\n",
              "              learning_rate_init=0.001, max_fun=15000, max_iter=200,\n",
              "              momentum=0.9, n_iter_no_change=10, nesterovs_momentum=True,\n",
              "              power_t=0.5, random_state=None, shuffle=True, solver='adam',\n",
              "              tol=0.0001, validation_fraction=0.1, verbose=False,\n",
              "              warm_start=False)"
            ]
          },
          "metadata": {
            "tags": []
          },
          "execution_count": 37
        }
      ]
    },
    {
      "cell_type": "code",
      "metadata": {
        "id": "rSUZE-CIwhVC",
        "colab_type": "code",
        "colab": {}
      },
      "source": [
        "modelo_redeN_resultado = modelo_redeN.predict(Mteste1)"
      ],
      "execution_count": 38,
      "outputs": []
    },
    {
      "cell_type": "code",
      "metadata": {
        "id": "jG0FLvNJwuEN",
        "colab_type": "code",
        "colab": {
          "base_uri": "https://localhost:8080/",
          "height": 34
        },
        "outputId": "5d5f4d95-30a2-44a8-e83e-c2c945c13935"
      },
      "source": [
        "accuracy_score(Ateste1,modelo_redeN_resultado)"
      ],
      "execution_count": 39,
      "outputs": [
        {
          "output_type": "execute_result",
          "data": {
            "text/plain": [
              "0.4526627218934911"
            ]
          },
          "metadata": {
            "tags": []
          },
          "execution_count": 39
        }
      ]
    },
    {
      "cell_type": "markdown",
      "metadata": {
        "id": "JM8UrEttX4Ot",
        "colab_type": "text"
      },
      "source": [
        "## Modelo SVC\n"
      ]
    },
    {
      "cell_type": "code",
      "metadata": {
        "id": "pcihrPWcX8g-",
        "colab_type": "code",
        "colab": {}
      },
      "source": [
        "#from sklearn.pipeline import make_pipeline\n",
        "from sklearn.preprocessing import StandardScaler\n",
        "from sklearn.svm import SVC\n",
        "modelo_svc= SVC(C= 0.01,kernel='linear',degree=3,gamma = 'scale',probability=False)"
      ],
      "execution_count": 40,
      "outputs": []
    },
    {
      "cell_type": "code",
      "metadata": {
        "id": "064_tHWeYt6B",
        "colab_type": "code",
        "colab": {
          "base_uri": "https://localhost:8080/",
          "height": 85
        },
        "outputId": "83265aab-ecda-488b-e8a2-a101453d97f0"
      },
      "source": [
        "modelo_svc.fit(MatrizAB,ArrayAB)"
      ],
      "execution_count": 41,
      "outputs": [
        {
          "output_type": "execute_result",
          "data": {
            "text/plain": [
              "SVC(C=0.01, break_ties=False, cache_size=200, class_weight=None, coef0=0.0,\n",
              "    decision_function_shape='ovr', degree=3, gamma='scale', kernel='linear',\n",
              "    max_iter=-1, probability=False, random_state=None, shrinking=True,\n",
              "    tol=0.001, verbose=False)"
            ]
          },
          "metadata": {
            "tags": []
          },
          "execution_count": 41
        }
      ]
    },
    {
      "cell_type": "code",
      "metadata": {
        "id": "jYQpeIWlZHfH",
        "colab_type": "code",
        "colab": {}
      },
      "source": [
        "modelo_svc_resultado = modelo_svc.predict(Mteste1)"
      ],
      "execution_count": 42,
      "outputs": []
    },
    {
      "cell_type": "code",
      "metadata": {
        "id": "XWDGjz6WZOh7",
        "colab_type": "code",
        "colab": {
          "base_uri": "https://localhost:8080/",
          "height": 34
        },
        "outputId": "bb546a72-3f46-474f-8b5e-73e120278975"
      },
      "source": [
        "accuracy_score(Ateste1,modelo_svc_resultado)"
      ],
      "execution_count": 43,
      "outputs": [
        {
          "output_type": "execute_result",
          "data": {
            "text/plain": [
              "0.8387573964497042"
            ]
          },
          "metadata": {
            "tags": []
          },
          "execution_count": 43
        }
      ]
    },
    {
      "cell_type": "markdown",
      "metadata": {
        "id": "xZrdoOjfUFWe",
        "colab_type": "text"
      },
      "source": [
        "#Matriz de Confusão"
      ]
    },
    {
      "cell_type": "code",
      "metadata": {
        "id": "1ncJKObcUM6R",
        "colab_type": "code",
        "colab": {}
      },
      "source": [
        "from sklearn.metrics import confusion_matrix\n",
        "matriz_bayes= confusion_matrix(Ateste1,modelo_bayes_resultado)"
      ],
      "execution_count": 44,
      "outputs": []
    },
    {
      "cell_type": "code",
      "metadata": {
        "id": "k3YcDICmUlQS",
        "colab_type": "code",
        "colab": {
          "base_uri": "https://localhost:8080/",
          "height": 296
        },
        "outputId": "311d4451-0da1-44d2-c80d-a9f00abe62cf"
      },
      "source": [
        "sns.heatmap(matriz_bayes, square=True, annot = True)\n",
        "plt.xlabel('Valores Preditos')\n",
        "plt.ylabel('Valores Reais')"
      ],
      "execution_count": 45,
      "outputs": [
        {
          "output_type": "execute_result",
          "data": {
            "text/plain": [
              "Text(83.40000000000006, 0.5, 'Valores Reais')"
            ]
          },
          "metadata": {
            "tags": []
          },
          "execution_count": 45
        },
        {
          "output_type": "display_data",
          "data": {
            "image/png": "[encoded data removed]",
            "text/plain": [
              "<Figure size 432x288 with 2 Axes>"
            ]
          },
          "metadata": {
            "tags": [],
            "needs_background": "light"
          }
        }
      ]
    },
    {
      "cell_type": "code",
      "metadata": {
        "id": "4n-3znACU3NT",
        "colab_type": "code",
        "colab": {
          "base_uri": "https://localhost:8080/",
          "height": 297
        },
        "outputId": "fdb1ee47-4c30-4b92-ee14-0620dde59c3c"
      },
      "source": [
        "matriz_adecisao= confusion_matrix(Ateste1,modelo_adecisao_resultado)\n",
        "sns.heatmap(matriz_adecisao, square=True, annot = True)\n",
        "plt.xlabel('Valores Preditos')\n",
        "plt.ylabel('Valores Reais')"
      ],
      "execution_count": 46,
      "outputs": [
        {
          "output_type": "execute_result",
          "data": {
            "text/plain": [
              "Text(83.40000000000006, 0.5, 'Valores Reais')"
            ]
          },
          "metadata": {
            "tags": []
          },
          "execution_count": 46
        },
        {
          "output_type": "display_data",
          "data": {
            "image/png": "[encoded data removed]",
            "text/plain": [
              "<Figure size 432x288 with 2 Axes>"
            ]
          },
          "metadata": {
            "tags": [],
            "needs_background": "light"
          }
        }
      ]
    },
    {
      "cell_type": "code",
      "metadata": {
        "id": "TZw3vqTZxXm7",
        "colab_type": "code",
        "colab": {
          "base_uri": "https://localhost:8080/",
          "height": 296
        },
        "outputId": "d6848d5c-ddcc-47b2-eec6-7b565ed39269"
      },
      "source": [
        "matriz_rl= confusion_matrix(Ateste1,modelo_lr_resultado)\n",
        "sns.heatmap(matriz_rl, square=True, annot = True)\n",
        "plt.xlabel('Valores Preditos')\n",
        "plt.ylabel('Valores Reais')"
      ],
      "execution_count": 47,
      "outputs": [
        {
          "output_type": "execute_result",
          "data": {
            "text/plain": [
              "Text(83.40000000000006, 0.5, 'Valores Reais')"
            ]
          },
          "metadata": {
            "tags": []
          },
          "execution_count": 47
        },
        {
          "output_type": "display_data",
          "data": {
            "image/png": "[encoded data removed]",
            "text/plain": [
              "<Figure size 432x288 with 2 Axes>"
            ]
          },
          "metadata": {
            "tags": [],
            "needs_background": "light"
          }
        }
      ]
    },
    {
      "cell_type": "code",
      "metadata": {
        "id": "4uQCOTQLxf8G",
        "colab_type": "code",
        "colab": {
          "base_uri": "https://localhost:8080/",
          "height": 296
        },
        "outputId": "7f35ef34-c741-4143-f353-935d37ea8f7b"
      },
      "source": [
        "matriz_redeN= confusion_matrix(Ateste1,modelo_redeN_resultado)\n",
        "sns.heatmap(matriz_redeN, square=True, annot = True)\n",
        "plt.xlabel('Valores Preditos')\n",
        "plt.ylabel('Valores Reais')"
      ],
      "execution_count": 48,
      "outputs": [
        {
          "output_type": "execute_result",
          "data": {
            "text/plain": [
              "Text(83.40000000000006, 0.5, 'Valores Reais')"
            ]
          },
          "metadata": {
            "tags": []
          },
          "execution_count": 48
        },
        {
          "output_type": "display_data",
          "data": {
            "image/png": "[encoded data removed]",
            "text/plain": [
              "<Figure size 432x288 with 2 Axes>"
            ]
          },
          "metadata": {
            "tags": [],
            "needs_background": "light"
          }
        }
      ]
    },
    {
      "cell_type": "markdown",
      "metadata": {
        "id": "pmYv3x49V31_",
        "colab_type": "text"
      },
      "source": [
        "# Validação cruzada"
      ]
    },
    {
      "cell_type": "code",
      "metadata": {
        "id": "AOoV0wN8V9hX",
        "colab_type": "code",
        "colab": {
          "base_uri": "https://localhost:8080/",
          "height": 34
        },
        "outputId": "268f09ac-6d6a-4e94-a174-c973333e4e5c"
      },
      "source": [
        "from sklearn.model_selection import cross_val_score\n",
        "\n",
        "from sklearn.neighbors import KNeighborsClassifier\n",
        "modelo_neighbors = KNeighborsClassifier(n_neighbors=3)\n",
        "cross_val_score(modelo_neighbors, MatrizAB, ArrayAB, cv = 5)"
      ],
      "execution_count": 49,
      "outputs": [
        {
          "output_type": "execute_result",
          "data": {
            "text/plain": [
              "array([1., 1., 1., 1., 1.])"
            ]
          },
          "metadata": {
            "tags": []
          },
          "execution_count": 49
        }
      ]
    },
    {
      "cell_type": "code",
      "metadata": {
        "id": "NC_QkwAnX7uS",
        "colab_type": "code",
        "colab": {
          "base_uri": "https://localhost:8080/",
          "height": 34
        },
        "outputId": "61290fa1-4904-4ee8-a2c7-1b3f7f08f63d"
      },
      "source": [
        "modelo_bayes_cv = GaussianNB()    \n",
        "cross_val_score(modelo_bayes_cv, MatrizAB, ArrayAB, cv = 5)"
      ],
      "execution_count": 50,
      "outputs": [
        {
          "output_type": "execute_result",
          "data": {
            "text/plain": [
              "array([1., 1., 1., 1., 1.])"
            ]
          },
          "metadata": {
            "tags": []
          },
          "execution_count": 50
        }
      ]
    },
    {
      "cell_type": "code",
      "metadata": {
        "id": "DAMJqS5WYMZj",
        "colab_type": "code",
        "colab": {
          "base_uri": "https://localhost:8080/",
          "height": 34
        },
        "outputId": "121b5408-6a39-4c06-c1c8-9acaa25a4b90"
      },
      "source": [
        "modelo_adecisao_cv= DecisionTreeClassifier()\n",
        "cross_val_score(modelo_adecisao_cv, MatrizAB, ArrayAB, cv = 5)"
      ],
      "execution_count": 51,
      "outputs": [
        {
          "output_type": "execute_result",
          "data": {
            "text/plain": [
              "array([1., 1., 1., 1., 1.])"
            ]
          },
          "metadata": {
            "tags": []
          },
          "execution_count": 51
        }
      ]
    },
    {
      "cell_type": "code",
      "metadata": {
        "id": "t5EmHdCRxyf9",
        "colab_type": "code",
        "colab": {
          "base_uri": "https://localhost:8080/",
          "height": 34
        },
        "outputId": "678ae149-bc27-42f9-c9ec-35bdb9bfdd93"
      },
      "source": [
        "modelo_lr_cv= LogisticRegression()\n",
        "cross_val_score(modelo_lr_cv, MatrizAB, ArrayAB, cv = 5)"
      ],
      "execution_count": 52,
      "outputs": [
        {
          "output_type": "execute_result",
          "data": {
            "text/plain": [
              "array([1., 1., 1., 1., 1.])"
            ]
          },
          "metadata": {
            "tags": []
          },
          "execution_count": 52
        }
      ]
    },
    {
      "cell_type": "code",
      "metadata": {
        "id": "OEBu6_gLx-O5",
        "colab_type": "code",
        "colab": {
          "base_uri": "https://localhost:8080/",
          "height": 34
        },
        "outputId": "1af2e8ce-48aa-4f47-dfd3-c6c988b89b83"
      },
      "source": [
        "modelo_redeN_cv= MLPClassifier()\n",
        "cross_val_score(modelo_redeN_cv, MatrizAB, ArrayAB, cv = 5)"
      ],
      "execution_count": 53,
      "outputs": [
        {
          "output_type": "execute_result",
          "data": {
            "text/plain": [
              "array([0.84313725, 0.84313725, 0.88235294, 0.99019608, 0.76237624])"
            ]
          },
          "metadata": {
            "tags": []
          },
          "execution_count": 53
        }
      ]
    },
    {
      "cell_type": "code",
      "metadata": {
        "id": "OE1BQ29kYawF",
        "colab_type": "code",
        "colab": {}
      },
      "source": [
        "from sklearn.model_selection import LeaveOneOut\n",
        "resultado=cross_val_score(modelo_bayes_cv, MatrizAB, ArrayAB, cv=LeaveOneOut())"
      ],
      "execution_count": 54,
      "outputs": []
    },
    {
      "cell_type": "code",
      "metadata": {
        "id": "JuHaR5p0Yn2i",
        "colab_type": "code",
        "colab": {
          "base_uri": "https://localhost:8080/",
          "height": 34
        },
        "outputId": "72cb3ff8-26fd-4cf2-c235-3a12ec4c9547"
      },
      "source": [
        "resultado.mean()"
      ],
      "execution_count": 55,
      "outputs": [
        {
          "output_type": "execute_result",
          "data": {
            "text/plain": [
              "1.0"
            ]
          },
          "metadata": {
            "tags": []
          },
          "execution_count": 55
        }
      ]
    },
    {
      "cell_type": "markdown",
      "metadata": {
        "id": "6XB9vDFGxYgl",
        "colab_type": "text"
      },
      "source": [
        "#Grid search"
      ]
    },
    {
      "cell_type": "markdown",
      "metadata": {
        "id": "MVVcnx9HxvJU",
        "colab_type": "text"
      },
      "source": [
        "##SVC"
      ]
    },
    {
      "cell_type": "code",
      "metadata": {
        "id": "jFxzw_DOxyTo",
        "colab_type": "code",
        "colab": {
          "base_uri": "https://localhost:8080/",
          "height": 34
        },
        "outputId": "158b4526-6f4e-47f5-bce2-87af4d5168a2"
      },
      "source": [
        "stdSc = StandardScaler()\n",
        "svm = SVC(kernel=\"linear\", C = 0.1)\n",
        "\n",
        "pipeline = Pipeline([('transformer', stdSc), ('predictor', svm)])\n",
        "\n",
        "scores = cross_val_score(pipeline, MatrizAB, ArrayAB, cv=5, scoring=\"accuracy\")\n",
        "scores"
      ],
      "execution_count": 56,
      "outputs": [
        {
          "output_type": "execute_result",
          "data": {
            "text/plain": [
              "array([1., 1., 1., 1., 1.])"
            ]
          },
          "metadata": {
            "tags": []
          },
          "execution_count": 56
        }
      ]
    },
    {
      "cell_type": "code",
      "metadata": {
        "id": "j_FLSuTA3znz",
        "colab_type": "code",
        "colab": {
          "base_uri": "https://localhost:8080/",
          "height": 391
        },
        "outputId": "c7737b53-5b51-49fd-e81b-d496dc87ad3b"
      },
      "source": [
        "C_range = np.logspace(-1, 4, 10)\n",
        "param_grid = dict(predictor__C = C_range,predictor__gamma = np.logspace(-4, 3, 10))\n",
        "grid = GridSearchCV(pipeline, param_grid, cv=5, scoring='accuracy')\n",
        "grid.fit(MatrizAB, ArrayAB)"
      ],
      "execution_count": 57,
      "outputs": [
        {
          "output_type": "execute_result",
          "data": {
            "text/plain": [
              "GridSearchCV(cv=5, error_score=nan,\n",
              "             estimator=Pipeline(memory=None,\n",
              "                                steps=[('transformer',\n",
              "                                        StandardScaler(copy=True,\n",
              "                                                       with_mean=True,\n",
              "                                                       with_std=True)),\n",
              "                                       ('predictor',\n",
              "                                        SVC(C=0.1, break_ties=False,\n",
              "                                            cache_size=200, class_weight=None,\n",
              "                                            coef0=0.0,\n",
              "                                            decision_function_shape='ovr',\n",
              "                                            degree=3, gamma='scale',\n",
              "                                            kernel='linear', max_iter=-1,\n",
              "                                            probability=False,\n",
              "                                            random_state=None, shrinki...\n",
              "       1.66810054e+01, 5.99484250e+01, 2.15443469e+02, 7.74263683e+02,\n",
              "       2.78255940e+03, 1.00000000e+04]),\n",
              "                         'predictor__gamma': array([1.00000000e-04, 5.99484250e-04, 3.59381366e-03, 2.15443469e-02,\n",
              "       1.29154967e-01, 7.74263683e-01, 4.64158883e+00, 2.78255940e+01,\n",
              "       1.66810054e+02, 1.00000000e+03])},\n",
              "             pre_dispatch='2*n_jobs', refit=True, return_train_score=False,\n",
              "             scoring='accuracy', verbose=0)"
            ]
          },
          "metadata": {
            "tags": []
          },
          "execution_count": 57
        }
      ]
    },
    {
      "cell_type": "code",
      "metadata": {
        "id": "VnzgBk9t4yqr",
        "colab_type": "code",
        "colab": {
          "base_uri": "https://localhost:8080/",
          "height": 34
        },
        "outputId": "355d6843-e421-4ba4-e67f-b1afa6317bd1"
      },
      "source": [
        "accuracy_score(Ateste1,grid.predict(Mteste1))"
      ],
      "execution_count": 58,
      "outputs": [
        {
          "output_type": "execute_result",
          "data": {
            "text/plain": [
              "0.841715976331361"
            ]
          },
          "metadata": {
            "tags": []
          },
          "execution_count": 58
        }
      ]
    },
    {
      "cell_type": "code",
      "metadata": {
        "id": "GiBjB3cG6Rnl",
        "colab_type": "code",
        "colab": {
          "base_uri": "https://localhost:8080/",
          "height": 119
        },
        "outputId": "e760a32e-a736-49be-d694-104c5c1c7559"
      },
      "source": [
        "grid.cv_results_[\"mean_test_score\"]"
      ],
      "execution_count": 59,
      "outputs": [
        {
          "output_type": "execute_result",
          "data": {
            "text/plain": [
              "array([1., 1., 1., 1., 1., 1., 1., 1., 1., 1., 1., 1., 1., 1., 1., 1., 1.,\n",
              "       1., 1., 1., 1., 1., 1., 1., 1., 1., 1., 1., 1., 1., 1., 1., 1., 1.,\n",
              "       1., 1., 1., 1., 1., 1., 1., 1., 1., 1., 1., 1., 1., 1., 1., 1., 1.,\n",
              "       1., 1., 1., 1., 1., 1., 1., 1., 1., 1., 1., 1., 1., 1., 1., 1., 1.,\n",
              "       1., 1., 1., 1., 1., 1., 1., 1., 1., 1., 1., 1., 1., 1., 1., 1., 1.,\n",
              "       1., 1., 1., 1., 1., 1., 1., 1., 1., 1., 1., 1., 1., 1., 1.])"
            ]
          },
          "metadata": {
            "tags": []
          },
          "execution_count": 59
        }
      ]
    },
    {
      "cell_type": "code",
      "metadata": {
        "id": "iuM4wKwW6Vow",
        "colab_type": "code",
        "colab": {
          "base_uri": "https://localhost:8080/",
          "height": 1000
        },
        "outputId": "e24380f9-56ef-42b1-ddb8-48618aa283b5"
      },
      "source": [
        "grid.cv_results_[\"params\"]"
      ],
      "execution_count": 60,
      "outputs": [
        {
          "output_type": "execute_result",
          "data": {
            "text/plain": [
              "[{'predictor__C': 0.1, 'predictor__gamma': 0.0001},\n",
              " {'predictor__C': 0.1, 'predictor__gamma': 0.0005994842503189409},\n",
              " {'predictor__C': 0.1, 'predictor__gamma': 0.003593813663804626},\n",
              " {'predictor__C': 0.1, 'predictor__gamma': 0.021544346900318846},\n",
              " {'predictor__C': 0.1, 'predictor__gamma': 0.1291549665014884},\n",
              " {'predictor__C': 0.1, 'predictor__gamma': 0.774263682681127},\n",
              " {'predictor__C': 0.1, 'predictor__gamma': 4.641588833612782},\n",
              " {'predictor__C': 0.1, 'predictor__gamma': 27.825594022071257},\n",
              " {'predictor__C': 0.1, 'predictor__gamma': 166.81005372000593},\n",
              " {'predictor__C': 0.1, 'predictor__gamma': 1000.0},\n",
              " {'predictor__C': 0.35938136638046275, 'predictor__gamma': 0.0001},\n",
              " {'predictor__C': 0.35938136638046275,\n",
              "  'predictor__gamma': 0.0005994842503189409},\n",
              " {'predictor__C': 0.35938136638046275,\n",
              "  'predictor__gamma': 0.003593813663804626},\n",
              " {'predictor__C': 0.35938136638046275,\n",
              "  'predictor__gamma': 0.021544346900318846},\n",
              " {'predictor__C': 0.35938136638046275, 'predictor__gamma': 0.1291549665014884},\n",
              " {'predictor__C': 0.35938136638046275, 'predictor__gamma': 0.774263682681127},\n",
              " {'predictor__C': 0.35938136638046275, 'predictor__gamma': 4.641588833612782},\n",
              " {'predictor__C': 0.35938136638046275, 'predictor__gamma': 27.825594022071257},\n",
              " {'predictor__C': 0.35938136638046275, 'predictor__gamma': 166.81005372000593},\n",
              " {'predictor__C': 0.35938136638046275, 'predictor__gamma': 1000.0},\n",
              " {'predictor__C': 1.291549665014884, 'predictor__gamma': 0.0001},\n",
              " {'predictor__C': 1.291549665014884,\n",
              "  'predictor__gamma': 0.0005994842503189409},\n",
              " {'predictor__C': 1.291549665014884, 'predictor__gamma': 0.003593813663804626},\n",
              " {'predictor__C': 1.291549665014884, 'predictor__gamma': 0.021544346900318846},\n",
              " {'predictor__C': 1.291549665014884, 'predictor__gamma': 0.1291549665014884},\n",
              " {'predictor__C': 1.291549665014884, 'predictor__gamma': 0.774263682681127},\n",
              " {'predictor__C': 1.291549665014884, 'predictor__gamma': 4.641588833612782},\n",
              " {'predictor__C': 1.291549665014884, 'predictor__gamma': 27.825594022071257},\n",
              " {'predictor__C': 1.291549665014884, 'predictor__gamma': 166.81005372000593},\n",
              " {'predictor__C': 1.291549665014884, 'predictor__gamma': 1000.0},\n",
              " {'predictor__C': 4.641588833612779, 'predictor__gamma': 0.0001},\n",
              " {'predictor__C': 4.641588833612779,\n",
              "  'predictor__gamma': 0.0005994842503189409},\n",
              " {'predictor__C': 4.641588833612779, 'predictor__gamma': 0.003593813663804626},\n",
              " {'predictor__C': 4.641588833612779, 'predictor__gamma': 0.021544346900318846},\n",
              " {'predictor__C': 4.641588833612779, 'predictor__gamma': 0.1291549665014884},\n",
              " {'predictor__C': 4.641588833612779, 'predictor__gamma': 0.774263682681127},\n",
              " {'predictor__C': 4.641588833612779, 'predictor__gamma': 4.641588833612782},\n",
              " {'predictor__C': 4.641588833612779, 'predictor__gamma': 27.825594022071257},\n",
              " {'predictor__C': 4.641588833612779, 'predictor__gamma': 166.81005372000593},\n",
              " {'predictor__C': 4.641588833612779, 'predictor__gamma': 1000.0},\n",
              " {'predictor__C': 16.68100537200059, 'predictor__gamma': 0.0001},\n",
              " {'predictor__C': 16.68100537200059,\n",
              "  'predictor__gamma': 0.0005994842503189409},\n",
              " {'predictor__C': 16.68100537200059, 'predictor__gamma': 0.003593813663804626},\n",
              " {'predictor__C': 16.68100537200059, 'predictor__gamma': 0.021544346900318846},\n",
              " {'predictor__C': 16.68100537200059, 'predictor__gamma': 0.1291549665014884},\n",
              " {'predictor__C': 16.68100537200059, 'predictor__gamma': 0.774263682681127},\n",
              " {'predictor__C': 16.68100537200059, 'predictor__gamma': 4.641588833612782},\n",
              " {'predictor__C': 16.68100537200059, 'predictor__gamma': 27.825594022071257},\n",
              " {'predictor__C': 16.68100537200059, 'predictor__gamma': 166.81005372000593},\n",
              " {'predictor__C': 16.68100537200059, 'predictor__gamma': 1000.0},\n",
              " {'predictor__C': 59.94842503189409, 'predictor__gamma': 0.0001},\n",
              " {'predictor__C': 59.94842503189409,\n",
              "  'predictor__gamma': 0.0005994842503189409},\n",
              " {'predictor__C': 59.94842503189409, 'predictor__gamma': 0.003593813663804626},\n",
              " {'predictor__C': 59.94842503189409, 'predictor__gamma': 0.021544346900318846},\n",
              " {'predictor__C': 59.94842503189409, 'predictor__gamma': 0.1291549665014884},\n",
              " {'predictor__C': 59.94842503189409, 'predictor__gamma': 0.774263682681127},\n",
              " {'predictor__C': 59.94842503189409, 'predictor__gamma': 4.641588833612782},\n",
              " {'predictor__C': 59.94842503189409, 'predictor__gamma': 27.825594022071257},\n",
              " {'predictor__C': 59.94842503189409, 'predictor__gamma': 166.81005372000593},\n",
              " {'predictor__C': 59.94842503189409, 'predictor__gamma': 1000.0},\n",
              " {'predictor__C': 215.44346900318845, 'predictor__gamma': 0.0001},\n",
              " {'predictor__C': 215.44346900318845,\n",
              "  'predictor__gamma': 0.0005994842503189409},\n",
              " {'predictor__C': 215.44346900318845,\n",
              "  'predictor__gamma': 0.003593813663804626},\n",
              " {'predictor__C': 215.44346900318845,\n",
              "  'predictor__gamma': 0.021544346900318846},\n",
              " {'predictor__C': 215.44346900318845, 'predictor__gamma': 0.1291549665014884},\n",
              " {'predictor__C': 215.44346900318845, 'predictor__gamma': 0.774263682681127},\n",
              " {'predictor__C': 215.44346900318845, 'predictor__gamma': 4.641588833612782},\n",
              " {'predictor__C': 215.44346900318845, 'predictor__gamma': 27.825594022071257},\n",
              " {'predictor__C': 215.44346900318845, 'predictor__gamma': 166.81005372000593},\n",
              " {'predictor__C': 215.44346900318845, 'predictor__gamma': 1000.0},\n",
              " {'predictor__C': 774.2636826811278, 'predictor__gamma': 0.0001},\n",
              " {'predictor__C': 774.2636826811278,\n",
              "  'predictor__gamma': 0.0005994842503189409},\n",
              " {'predictor__C': 774.2636826811278, 'predictor__gamma': 0.003593813663804626},\n",
              " {'predictor__C': 774.2636826811278, 'predictor__gamma': 0.021544346900318846},\n",
              " {'predictor__C': 774.2636826811278, 'predictor__gamma': 0.1291549665014884},\n",
              " {'predictor__C': 774.2636826811278, 'predictor__gamma': 0.774263682681127},\n",
              " {'predictor__C': 774.2636826811278, 'predictor__gamma': 4.641588833612782},\n",
              " {'predictor__C': 774.2636826811278, 'predictor__gamma': 27.825594022071257},\n",
              " {'predictor__C': 774.2636826811278, 'predictor__gamma': 166.81005372000593},\n",
              " {'predictor__C': 774.2636826811278, 'predictor__gamma': 1000.0},\n",
              " {'predictor__C': 2782.559402207126, 'predictor__gamma': 0.0001},\n",
              " {'predictor__C': 2782.559402207126,\n",
              "  'predictor__gamma': 0.0005994842503189409},\n",
              " {'predictor__C': 2782.559402207126, 'predictor__gamma': 0.003593813663804626},\n",
              " {'predictor__C': 2782.559402207126, 'predictor__gamma': 0.021544346900318846},\n",
              " {'predictor__C': 2782.559402207126, 'predictor__gamma': 0.1291549665014884},\n",
              " {'predictor__C': 2782.559402207126, 'predictor__gamma': 0.774263682681127},\n",
              " {'predictor__C': 2782.559402207126, 'predictor__gamma': 4.641588833612782},\n",
              " {'predictor__C': 2782.559402207126, 'predictor__gamma': 27.825594022071257},\n",
              " {'predictor__C': 2782.559402207126, 'predictor__gamma': 166.81005372000593},\n",
              " {'predictor__C': 2782.559402207126, 'predictor__gamma': 1000.0},\n",
              " {'predictor__C': 10000.0, 'predictor__gamma': 0.0001},\n",
              " {'predictor__C': 10000.0, 'predictor__gamma': 0.0005994842503189409},\n",
              " {'predictor__C': 10000.0, 'predictor__gamma': 0.003593813663804626},\n",
              " {'predictor__C': 10000.0, 'predictor__gamma': 0.021544346900318846},\n",
              " {'predictor__C': 10000.0, 'predictor__gamma': 0.1291549665014884},\n",
              " {'predictor__C': 10000.0, 'predictor__gamma': 0.774263682681127},\n",
              " {'predictor__C': 10000.0, 'predictor__gamma': 4.641588833612782},\n",
              " {'predictor__C': 10000.0, 'predictor__gamma': 27.825594022071257},\n",
              " {'predictor__C': 10000.0, 'predictor__gamma': 166.81005372000593},\n",
              " {'predictor__C': 10000.0, 'predictor__gamma': 1000.0}]"
            ]
          },
          "metadata": {
            "tags": []
          },
          "execution_count": 60
        }
      ]
    },
    {
      "cell_type": "code",
      "metadata": {
        "id": "wgswry0r6X_l",
        "colab_type": "code",
        "colab": {
          "base_uri": "https://localhost:8080/",
          "height": 221
        },
        "outputId": "4deeac5b-c5a1-4ee6-9fb2-09ef4d4c68ba"
      },
      "source": [
        "print(grid.best_score_)\n",
        "print(grid.best_params_)\n",
        "print(grid.best_estimator_)"
      ],
      "execution_count": 61,
      "outputs": [
        {
          "output_type": "stream",
          "text": [
            "1.0\n",
            "{'predictor__C': 0.1, 'predictor__gamma': 0.0001}\n",
            "Pipeline(memory=None,\n",
            "         steps=[('transformer',\n",
            "                 StandardScaler(copy=True, with_mean=True, with_std=True)),\n",
            "                ('predictor',\n",
            "                 SVC(C=0.1, break_ties=False, cache_size=200, class_weight=None,\n",
            "                     coef0=0.0, decision_function_shape='ovr', degree=3,\n",
            "                     gamma=0.0001, kernel='linear', max_iter=-1,\n",
            "                     probability=False, random_state=None, shrinking=True,\n",
            "                     tol=0.001, verbose=False))],\n",
            "         verbose=False)\n"
          ],
          "name": "stdout"
        }
      ]
    },
    {
      "cell_type": "code",
      "metadata": {
        "id": "FJQ51V9lBmGY",
        "colab_type": "code",
        "colab": {
          "base_uri": "https://localhost:8080/",
          "height": 34
        },
        "outputId": "3ff84627-329b-4014-e015-ff1a7e03c60c"
      },
      "source": [
        "Mteste2 = ds3.loc[:,['alpha','beta']]\n",
        "Ateste2 = ds3.y\n",
        "accuracy_score(Ateste2,grid.predict(Mteste2))"
      ],
      "execution_count": 62,
      "outputs": [
        {
          "output_type": "execute_result",
          "data": {
            "text/plain": [
              "0.5080279950596953"
            ]
          },
          "metadata": {
            "tags": []
          },
          "execution_count": 62
        }
      ]
    },
    {
      "cell_type": "markdown",
      "metadata": {
        "id": "itGEA4QJxcCv",
        "colab_type": "text"
      },
      "source": [
        "##GaucianNB"
      ]
    },
    {
      "cell_type": "code",
      "metadata": {
        "id": "x1lO4mIrxf2W",
        "colab_type": "code",
        "colab": {
          "base_uri": "https://localhost:8080/",
          "height": 34
        },
        "outputId": "722e4151-7f47-4574-aaa7-aa75cff6dd91"
      },
      "source": [
        "stdSc = StandardScaler()\n",
        "modelo_bayes = GaussianNB() \n",
        "\n",
        "pipeline = Pipeline([('transformer', stdSc), ('predictor', modelo_bayes)])\n",
        "\n",
        "scores = cross_val_score(pipeline, MatrizAB, ArrayAB, cv=5, scoring=\"accuracy\")\n",
        "scores"
      ],
      "execution_count": 63,
      "outputs": [
        {
          "output_type": "execute_result",
          "data": {
            "text/plain": [
              "array([1., 1., 1., 1., 1.])"
            ]
          },
          "metadata": {
            "tags": []
          },
          "execution_count": 63
        }
      ]
    },
    {
      "cell_type": "code",
      "metadata": {
        "id": "KMElaz8W92Is",
        "colab_type": "code",
        "colab": {
          "base_uri": "https://localhost:8080/",
          "height": 309
        },
        "outputId": "c94ec9fa-9616-4edd-9299-50ac1e6f5a83"
      },
      "source": [
        "V_range = np.logspace(-12, -2, 10)\n",
        "param_grid = dict(predictor__var_smoothing = V_range)\n",
        "grid = GridSearchCV(pipeline, param_grid, cv=5, scoring='accuracy')\n",
        "grid.fit(MatrizAB, ArrayAB)"
      ],
      "execution_count": 64,
      "outputs": [
        {
          "output_type": "execute_result",
          "data": {
            "text/plain": [
              "GridSearchCV(cv=5, error_score=nan,\n",
              "             estimator=Pipeline(memory=None,\n",
              "                                steps=[('transformer',\n",
              "                                        StandardScaler(copy=True,\n",
              "                                                       with_mean=True,\n",
              "                                                       with_std=True)),\n",
              "                                       ('predictor',\n",
              "                                        GaussianNB(priors=None,\n",
              "                                                   var_smoothing=1e-09))],\n",
              "                                verbose=False),\n",
              "             iid='deprecated', n_jobs=None,\n",
              "             param_grid={'predictor__var_smoothing': array([1.00000000e-12, 1.29154967e-11, 1.66810054e-10, 2.15443469e-09,\n",
              "       2.78255940e-08, 3.59381366e-07, 4.64158883e-06, 5.99484250e-05,\n",
              "       7.74263683e-04, 1.00000000e-02])},\n",
              "             pre_dispatch='2*n_jobs', refit=True, return_train_score=False,\n",
              "             scoring='accuracy', verbose=0)"
            ]
          },
          "metadata": {
            "tags": []
          },
          "execution_count": 64
        }
      ]
    },
    {
      "cell_type": "code",
      "metadata": {
        "id": "6pUhlAmN-AvP",
        "colab_type": "code",
        "colab": {
          "base_uri": "https://localhost:8080/",
          "height": 34
        },
        "outputId": "3c06c4cc-749b-43e3-fcec-f339e4dee713"
      },
      "source": [
        "accuracy_score(Ateste1,grid.predict(Mteste1))"
      ],
      "execution_count": 65,
      "outputs": [
        {
          "output_type": "execute_result",
          "data": {
            "text/plain": [
              "0.849112426035503"
            ]
          },
          "metadata": {
            "tags": []
          },
          "execution_count": 65
        }
      ]
    },
    {
      "cell_type": "code",
      "metadata": {
        "id": "xvvVCkC--HtL",
        "colab_type": "code",
        "colab": {
          "base_uri": "https://localhost:8080/",
          "height": 34
        },
        "outputId": "b1e68ee9-fa1a-44a1-9f4b-af1dd5f1f9b6"
      },
      "source": [
        "grid.cv_results_[\"mean_test_score\"]"
      ],
      "execution_count": 66,
      "outputs": [
        {
          "output_type": "execute_result",
          "data": {
            "text/plain": [
              "array([1., 1., 1., 1., 1., 1., 1., 1., 1., 1.])"
            ]
          },
          "metadata": {
            "tags": []
          },
          "execution_count": 66
        }
      ]
    },
    {
      "cell_type": "code",
      "metadata": {
        "id": "sy7BvGwz-MwV",
        "colab_type": "code",
        "colab": {
          "base_uri": "https://localhost:8080/",
          "height": 187
        },
        "outputId": "bfd6c58e-af39-4a9e-fb2b-18b3724e5ad2"
      },
      "source": [
        "grid.cv_results_[\"params\"]"
      ],
      "execution_count": 67,
      "outputs": [
        {
          "output_type": "execute_result",
          "data": {
            "text/plain": [
              "[{'predictor__var_smoothing': 1e-12},\n",
              " {'predictor__var_smoothing': 1.2915496650148827e-11},\n",
              " {'predictor__var_smoothing': 1.6681005372000558e-10},\n",
              " {'predictor__var_smoothing': 2.1544346900318866e-09},\n",
              " {'predictor__var_smoothing': 2.782559402207126e-08},\n",
              " {'predictor__var_smoothing': 3.5938136638046254e-07},\n",
              " {'predictor__var_smoothing': 4.641588833612782e-06},\n",
              " {'predictor__var_smoothing': 5.994842503189421e-05},\n",
              " {'predictor__var_smoothing': 0.0007742636826811277},\n",
              " {'predictor__var_smoothing': 0.01}]"
            ]
          },
          "metadata": {
            "tags": []
          },
          "execution_count": 67
        }
      ]
    },
    {
      "cell_type": "code",
      "metadata": {
        "id": "fOe5XJH9-P0F",
        "colab_type": "code",
        "colab": {
          "base_uri": "https://localhost:8080/",
          "height": 136
        },
        "outputId": "fd960284-3340-4c9d-943e-4a066ae2d2eb"
      },
      "source": [
        "print(grid.best_score_)\n",
        "print(grid.best_params_)\n",
        "print(grid.best_estimator_)"
      ],
      "execution_count": 68,
      "outputs": [
        {
          "output_type": "stream",
          "text": [
            "1.0\n",
            "{'predictor__var_smoothing': 1e-12}\n",
            "Pipeline(memory=None,\n",
            "         steps=[('transformer',\n",
            "                 StandardScaler(copy=True, with_mean=True, with_std=True)),\n",
            "                ('predictor', GaussianNB(priors=None, var_smoothing=1e-12))],\n",
            "         verbose=False)\n"
          ],
          "name": "stdout"
        }
      ]
    },
    {
      "cell_type": "code",
      "metadata": {
        "id": "2exvabXyBX34",
        "colab_type": "code",
        "colab": {
          "base_uri": "https://localhost:8080/",
          "height": 34
        },
        "outputId": "d23dd67a-8cab-4e78-b82d-fa394b410e97"
      },
      "source": [
        "accuracy_score(Ateste2,grid.predict(Mteste2))"
      ],
      "execution_count": 69,
      "outputs": [
        {
          "output_type": "execute_result",
          "data": {
            "text/plain": [
              "0.5137916838205022"
            ]
          },
          "metadata": {
            "tags": []
          },
          "execution_count": 69
        }
      ]
    },
    {
      "cell_type": "markdown",
      "metadata": {
        "id": "iq7J9n1HM7nP",
        "colab_type": "text"
      },
      "source": [
        "#Matriz de cunfusão"
      ]
    },
    {
      "cell_type": "code",
      "metadata": {
        "id": "T1hMY5KvNAwx",
        "colab_type": "code",
        "colab": {
          "base_uri": "https://localhost:8080/",
          "height": 296
        },
        "outputId": "b3de0a9d-c883-491e-bb33-fdd26b29e96d"
      },
      "source": [
        "matriz_bayes= confusion_matrix(Ateste1,grid.predict(Mteste1))\n",
        "sns.heatmap(matriz_bayes, square=True, annot = True)\n",
        "plt.xlabel('Valores Preditos')\n",
        "plt.ylabel('Valores Reais')"
      ],
      "execution_count": 70,
      "outputs": [
        {
          "output_type": "execute_result",
          "data": {
            "text/plain": [
              "Text(83.40000000000006, 0.5, 'Valores Reais')"
            ]
          },
          "metadata": {
            "tags": []
          },
          "execution_count": 70
        },
        {
          "output_type": "display_data",
          "data": {
            "image/png": "[encoded data removed]",
            "text/plain": [
              "<Figure size 432x288 with 2 Axes>"
            ]
          },
          "metadata": {
            "tags": [],
            "needs_background": "light"
          }
        }
      ]
    },
    {
      "cell_type": "markdown",
      "metadata": {
        "id": "kSKELHrTHK6n",
        "colab_type": "text"
      },
      "source": [
        "#Acuracia"
      ]
    },
    {
      "cell_type": "code",
      "metadata": {
        "id": "75qAl6eaJdJK",
        "colab_type": "code",
        "colab": {
          "base_uri": "https://localhost:8080/",
          "height": 34
        },
        "outputId": "a3fabe22-8e5f-4c09-a34c-7308e8f3759b"
      },
      "source": [
        "accuracy_score(Ateste1,grid.predict(Mteste1))"
      ],
      "execution_count": 71,
      "outputs": [
        {
          "output_type": "execute_result",
          "data": {
            "text/plain": [
              "0.849112426035503"
            ]
          },
          "metadata": {
            "tags": []
          },
          "execution_count": 71
        }
      ]
    },
    {
      "cell_type": "code",
      "metadata": {
        "id": "ZpzRDZ_QYJyv",
        "colab_type": "code",
        "colab": {
          "base_uri": "https://localhost:8080/",
          "height": 34
        },
        "outputId": "ce040273-384a-428b-dd82-8d37b3bd195d"
      },
      "source": [
        "accuracy_score(Ateste1,modelo_bayes_resultado)"
      ],
      "execution_count": 72,
      "outputs": [
        {
          "output_type": "execute_result",
          "data": {
            "text/plain": [
              "0.849112426035503"
            ]
          },
          "metadata": {
            "tags": []
          },
          "execution_count": 72
        }
      ]
    },
    {
      "cell_type": "code",
      "metadata": {
        "id": "TZn7a3VZYKw8",
        "colab_type": "code",
        "colab": {
          "base_uri": "https://localhost:8080/",
          "height": 34
        },
        "outputId": "a1b3a7a1-1e20-48e1-9545-3556905ae249"
      },
      "source": [
        "accuracy_score(Ateste1,modelo_svc_resultado)"
      ],
      "execution_count": 73,
      "outputs": [
        {
          "output_type": "execute_result",
          "data": {
            "text/plain": [
              "0.8387573964497042"
            ]
          },
          "metadata": {
            "tags": []
          },
          "execution_count": 73
        }
      ]
    },
    {
      "cell_type": "markdown",
      "metadata": {
        "id": "IzPr5uOoHfPl",
        "colab_type": "text"
      },
      "source": [
        "#Precisão"
      ]
    },
    {
      "cell_type": "code",
      "metadata": {
        "id": "JwNuRZe5JdhN",
        "colab_type": "code",
        "colab": {
          "base_uri": "https://localhost:8080/",
          "height": 34
        },
        "outputId": "710c3dad-252f-40af-8cae-7ba3d84d28a0"
      },
      "source": [
        "def precision(target, prediction) :\n",
        "  matriz = confusion_matrix(target, prediction)\n",
        "  tn, fp, fn, tp = matriz.ravel()\n",
        "  return tp/(tp+fp)\n",
        "precision(Ateste1,grid.predict(Mteste1))"
      ],
      "execution_count": 74,
      "outputs": [
        {
          "output_type": "execute_result",
          "data": {
            "text/plain": [
              "0.9067524115755627"
            ]
          },
          "metadata": {
            "tags": []
          },
          "execution_count": 74
        }
      ]
    },
    {
      "cell_type": "code",
      "metadata": {
        "id": "Sq1gw0rDYQg2",
        "colab_type": "code",
        "colab": {
          "base_uri": "https://localhost:8080/",
          "height": 34
        },
        "outputId": "f6f9276f-0532-453c-eac4-48f92ea2e4d9"
      },
      "source": [
        "precision(Ateste1,modelo_bayes_resultado)"
      ],
      "execution_count": 75,
      "outputs": [
        {
          "output_type": "execute_result",
          "data": {
            "text/plain": [
              "0.9067524115755627"
            ]
          },
          "metadata": {
            "tags": []
          },
          "execution_count": 75
        }
      ]
    },
    {
      "cell_type": "code",
      "metadata": {
        "id": "m-TR411EXrYY",
        "colab_type": "code",
        "colab": {
          "base_uri": "https://localhost:8080/",
          "height": 34
        },
        "outputId": "0542163a-f948-448e-f2b6-8d7961a95314"
      },
      "source": [
        "precision(Ateste1,modelo_svc_resultado)"
      ],
      "execution_count": 76,
      "outputs": [
        {
          "output_type": "execute_result",
          "data": {
            "text/plain": [
              "0.863905325443787"
            ]
          },
          "metadata": {
            "tags": []
          },
          "execution_count": 76
        }
      ]
    },
    {
      "cell_type": "markdown",
      "metadata": {
        "id": "LEalQTbVHh-3",
        "colab_type": "text"
      },
      "source": [
        "#Recall"
      ]
    },
    {
      "cell_type": "code",
      "metadata": {
        "id": "mxF6XkumJct9",
        "colab_type": "code",
        "colab": {
          "base_uri": "https://localhost:8080/",
          "height": 34
        },
        "outputId": "47c66802-c296-4148-b049-f229b6f30cba"
      },
      "source": [
        "def recall(target, prediction) :\n",
        "  matriz = confusion_matrix(target, prediction)\n",
        "  tn, fp, fn, tp = matriz.ravel()\n",
        "  return tp/(tp+fn)\n",
        "recall(Ateste1,grid.predict(Mteste1)) "
      ],
      "execution_count": 77,
      "outputs": [
        {
          "output_type": "execute_result",
          "data": {
            "text/plain": [
              "0.7943661971830986"
            ]
          },
          "metadata": {
            "tags": []
          },
          "execution_count": 77
        }
      ]
    },
    {
      "cell_type": "code",
      "metadata": {
        "id": "xda9V_ZtYT3t",
        "colab_type": "code",
        "colab": {
          "base_uri": "https://localhost:8080/",
          "height": 34
        },
        "outputId": "bc1d83ff-5da1-46c6-accd-e7706bc0e71f"
      },
      "source": [
        "recall(Ateste1,modelo_bayes_resultado)"
      ],
      "execution_count": 78,
      "outputs": [
        {
          "output_type": "execute_result",
          "data": {
            "text/plain": [
              "0.7943661971830986"
            ]
          },
          "metadata": {
            "tags": []
          },
          "execution_count": 78
        }
      ]
    },
    {
      "cell_type": "code",
      "metadata": {
        "id": "c3ESJTP9XvKu",
        "colab_type": "code",
        "colab": {
          "base_uri": "https://localhost:8080/",
          "height": 34
        },
        "outputId": "8c762ed2-5f0b-4563-cf40-6e0bfcd119ee"
      },
      "source": [
        "recall(Ateste1,modelo_svc_resultado)"
      ],
      "execution_count": 79,
      "outputs": [
        {
          "output_type": "execute_result",
          "data": {
            "text/plain": [
              "0.8225352112676056"
            ]
          },
          "metadata": {
            "tags": []
          },
          "execution_count": 79
        }
      ]
    },
    {
      "cell_type": "markdown",
      "metadata": {
        "id": "Dhe7DF7yJU3E",
        "colab_type": "text"
      },
      "source": [
        "##Medida F"
      ]
    },
    {
      "cell_type": "code",
      "metadata": {
        "id": "v2I_40YkJcRh",
        "colab_type": "code",
        "colab": {
          "base_uri": "https://localhost:8080/",
          "height": 34
        },
        "outputId": "46de5d99-eba6-42b1-f027-c00845789725"
      },
      "source": [
        "def medida_f(target, prediction) :\n",
        "  rec = recall(target, prediction)\n",
        "  prec = precision(target, prediction)\n",
        "  return 2*rec*prec/(rec+prec)\n",
        "medida_f(Ateste1,grid.predict(Mteste1))"
      ],
      "execution_count": 80,
      "outputs": [
        {
          "output_type": "execute_result",
          "data": {
            "text/plain": [
              "0.8468468468468469"
            ]
          },
          "metadata": {
            "tags": []
          },
          "execution_count": 80
        }
      ]
    },
    {
      "cell_type": "code",
      "metadata": {
        "id": "AzWwvwE9YX6N",
        "colab_type": "code",
        "colab": {
          "base_uri": "https://localhost:8080/",
          "height": 34
        },
        "outputId": "f13ec798-29e7-4211-c538-88bca6ab1a4c"
      },
      "source": [
        "medida_f(Ateste1,modelo_bayes_resultado)"
      ],
      "execution_count": 81,
      "outputs": [
        {
          "output_type": "execute_result",
          "data": {
            "text/plain": [
              "0.8468468468468469"
            ]
          },
          "metadata": {
            "tags": []
          },
          "execution_count": 81
        }
      ]
    },
    {
      "cell_type": "code",
      "metadata": {
        "id": "fQ7xkfr7XxLG",
        "colab_type": "code",
        "colab": {
          "base_uri": "https://localhost:8080/",
          "height": 34
        },
        "outputId": "45484366-3af9-4bc0-90c2-a697d01078e9"
      },
      "source": [
        "medida_f(Ateste1,modelo_svc_resultado)"
      ],
      "execution_count": 82,
      "outputs": [
        {
          "output_type": "execute_result",
          "data": {
            "text/plain": [
              "0.8427128427128426"
            ]
          },
          "metadata": {
            "tags": []
          },
          "execution_count": 82
        }
      ]
    },
    {
      "cell_type": "markdown",
      "metadata": {
        "id": "TD97s66AHo8A",
        "colab_type": "text"
      },
      "source": [
        "#Specificity"
      ]
    },
    {
      "cell_type": "code",
      "metadata": {
        "id": "3RSXEPJhJb4o",
        "colab_type": "code",
        "colab": {
          "base_uri": "https://localhost:8080/",
          "height": 34
        },
        "outputId": "c9b352c4-73cc-4026-9866-bf455b287133"
      },
      "source": [
        "def specificity(target, prediction) :\n",
        "  matriz = confusion_matrix(target, prediction)\n",
        "  tn, fp, fn, tp = matriz.ravel()\n",
        "  return tn/(tn+fp)\n",
        "specificity(Ateste1,grid.predict(Mteste1)) "
      ],
      "execution_count": 83,
      "outputs": [
        {
          "output_type": "execute_result",
          "data": {
            "text/plain": [
              "0.9096573208722741"
            ]
          },
          "metadata": {
            "tags": []
          },
          "execution_count": 83
        }
      ]
    },
    {
      "cell_type": "code",
      "metadata": {
        "id": "J6PMl9HNYbzJ",
        "colab_type": "code",
        "colab": {
          "base_uri": "https://localhost:8080/",
          "height": 34
        },
        "outputId": "510e5721-bd34-4a9c-a64d-e2cdce5b29e5"
      },
      "source": [
        "specificity(Ateste1,modelo_bayes_resultado)"
      ],
      "execution_count": 84,
      "outputs": [
        {
          "output_type": "execute_result",
          "data": {
            "text/plain": [
              "0.9096573208722741"
            ]
          },
          "metadata": {
            "tags": []
          },
          "execution_count": 84
        }
      ]
    },
    {
      "cell_type": "code",
      "metadata": {
        "id": "M-xgVqKCX0z5",
        "colab_type": "code",
        "colab": {
          "base_uri": "https://localhost:8080/",
          "height": 34
        },
        "outputId": "2db87504-8fc1-474d-bdf5-7942fcbae01f"
      },
      "source": [
        "specificity(Ateste1,modelo_svc_resultado)"
      ],
      "execution_count": 85,
      "outputs": [
        {
          "output_type": "execute_result",
          "data": {
            "text/plain": [
              "0.8566978193146417"
            ]
          },
          "metadata": {
            "tags": []
          },
          "execution_count": 85
        }
      ]
    }
  ]
}